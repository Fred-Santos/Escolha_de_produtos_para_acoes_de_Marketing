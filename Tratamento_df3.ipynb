{
 "cells": [
  {
   "cell_type": "code",
   "execution_count": 3,
   "metadata": {
    "colab": {
     "base_uri": "https://localhost:8080/"
    },
    "id": "G_MpcCRApIv9",
    "outputId": "fbcd32eb-f692-4f2e-9ef6-ec76659874c4"
   },
   "outputs": [
    {
     "name": "stdout",
     "output_type": "stream",
     "text": [
      "Requirement already satisfied: pyspark in c:\\users\\fred\\anaconda3\\lib\\site-packages (3.5.3)\n",
      "Requirement already satisfied: py4j==0.10.9.7 in c:\\users\\fred\\anaconda3\\lib\\site-packages (from pyspark) (0.10.9.7)\n"
     ]
    }
   ],
   "source": [
    "!pip install pyspark"
   ]
  },
  {
   "cell_type": "code",
   "execution_count": 4,
   "metadata": {
    "id": "RsqESDH9pMYc"
   },
   "outputs": [],
   "source": [
    "from pyspark.sql import SparkSession\n",
    "spark = SparkSession.builder \\\n",
    "  .appName('Prata2') \\\n",
    "  .getOrCreate()"
   ]
  },
  {
   "cell_type": "code",
   "execution_count": 5,
   "metadata": {
    "id": "8hVL2E4lr1FI"
   },
   "outputs": [],
   "source": [
    "from pyspark.sql.functions import count_distinct, col, when, sum, regexp_extract"
   ]
  },
  {
   "cell_type": "code",
   "execution_count": 6,
   "metadata": {
    "id": "ahlJnHbgqfyf"
   },
   "outputs": [],
   "source": [
    "df = spark.read.csv(\"dados\\df3.csv\", sep =\";\", header=True)"
   ]
  },
  {
   "cell_type": "code",
   "execution_count": 7,
   "metadata": {
    "colab": {
     "base_uri": "https://localhost:8080/"
    },
    "id": "mQLTeTr6qw5C",
    "outputId": "fe4e7f9a-7a8f-4e91-f30a-8eaae8c89c60"
   },
   "outputs": [
    {
     "name": "stdout",
     "output_type": "stream",
     "text": [
      "+--------------------+-------------------+--------------------+\n",
      "|      Característica|Aval.Característica|                 URL|\n",
      "+--------------------+-------------------+--------------------+\n",
      "|     Custo-benefício| Avaliação 4.6 de 5|https://www.merca...|\n",
      "|            Absorção| Avaliação 4.7 de 5|https://www.merca...|\n",
      "|Qualidade dos mat...| Avaliação 4.6 de 5|https://www.merca...|\n",
      "|     Custo-benefício| Avaliação 4.6 de 5|https://www.merca...|\n",
      "|     Sabor agradável| Avaliação 4.7 de 5|https://www.merca...|\n",
      "|            Benéfico| Avaliação 4.7 de 5|https://www.merca...|\n",
      "|    Fácil de digerir| Avaliação 4.7 de 5|https://www.merca...|\n",
      "|     Custo-benefício| Avaliação 4.8 de 5|https://www.merca...|\n",
      "|     Sabor agradável| Avaliação 4.8 de 5|https://www.merca...|\n",
      "|    Fácil de digerir| Avaliação 4.8 de 5|https://www.merca...|\n",
      "|            Benéfico| Avaliação 4.6 de 5|https://www.merca...|\n",
      "|     Custo-benefício| Avaliação 4.6 de 5|https://produto.m...|\n",
      "|Qualidade dos mat...|   Avaliação 5 de 5|https://produto.m...|\n",
      "|        Durabilidade|   Avaliação 5 de 5|https://produto.m...|\n",
      "|     Custo-benefício| Avaliação 4.2 de 5|https://www.merca...|\n",
      "|        Durabilidade| Avaliação 4.7 de 5|https://www.merca...|\n",
      "|         Resistência| Avaliação 4.7 de 5|https://www.merca...|\n",
      "|            Absorção| Avaliação 3.5 de 5|https://click1.me...|\n",
      "|     Custo-benefício| Avaliação 3.9 de 5|https://click1.me...|\n",
      "|Qualidade dos mat...| Avaliação 3.4 de 5|https://click1.me...|\n",
      "+--------------------+-------------------+--------------------+\n",
      "only showing top 20 rows\n",
      "\n"
     ]
    }
   ],
   "source": [
    "df.show()"
   ]
  },
  {
   "cell_type": "code",
   "execution_count": 8,
   "metadata": {
    "colab": {
     "base_uri": "https://localhost:8080/"
    },
    "id": "GGImCg2JJJCC",
    "outputId": "2b6a1cd2-43b2-46a1-c292-8f57471780e5"
   },
   "outputs": [
    {
     "data": {
      "text/plain": [
       "4256"
      ]
     },
     "execution_count": 8,
     "metadata": {},
     "output_type": "execute_result"
    }
   ],
   "source": [
    "df.count()"
   ]
  },
  {
   "cell_type": "code",
   "execution_count": 9,
   "metadata": {
    "colab": {
     "base_uri": "https://localhost:8080/"
    },
    "id": "hsBIX1TYGHgS",
    "outputId": "a182d206-f99e-498c-b086-61e7d986a070"
   },
   "outputs": [
    {
     "name": "stdout",
     "output_type": "stream",
     "text": [
      "root\n",
      " |-- Característica: string (nullable = true)\n",
      " |-- Aval.Característica: string (nullable = true)\n",
      " |-- URL: string (nullable = true)\n",
      "\n"
     ]
    }
   ],
   "source": [
    "df.printSchema()"
   ]
  },
  {
   "cell_type": "code",
   "execution_count": 10,
   "metadata": {
    "id": "2EvqlAn8Ck50"
   },
   "outputs": [],
   "source": [
    "df = df.withColumnRenamed(\"Aval.Característica\", \"Aval_Caracteristica\").withColumnRenamed(\"Característica\", \"Caracteristica\")"
   ]
  },
  {
   "cell_type": "code",
   "execution_count": 11,
   "metadata": {
    "colab": {
     "base_uri": "https://localhost:8080/"
    },
    "id": "RtNz4HZWq9EH",
    "outputId": "e0537a7e-0520-47f4-ba2a-f8f789712194"
   },
   "outputs": [
    {
     "name": "stdout",
     "output_type": "stream",
     "text": [
      "+--------------------------------+\n",
      "|Caracteristiscas_Unicas         |\n",
      "+--------------------------------+\n",
      "|Fragrância                      |\n",
      "|Não encolhe na lavagem          |\n",
      "|Sabor agradável                 |\n",
      "|Benéfico                        |\n",
      "|Confortável                     |\n",
      "|Custo-benefício                 |\n",
      "|Relación precio-calidad         |\n",
      "|É quente                        |\n",
      "|Resistente às condições externas|\n",
      "|Calidad de los materiales       |\n",
      "|Resistência                     |\n",
      "|Qualidade do tecido             |\n",
      "|Fácil de digerir                |\n",
      "|Praticidade                     |\n",
      "|Absorção                        |\n",
      "|Durabilidade                    |\n",
      "|Qualidade dos materiais         |\n",
      "+--------------------------------+\n",
      "\n",
      "+-------------------------+\n",
      "|Caracteristicas_Distintas|\n",
      "+-------------------------+\n",
      "|                       17|\n",
      "+-------------------------+\n",
      "\n"
     ]
    }
   ],
   "source": [
    "df.select(\"Caracteristica\").distinct().withColumnRenamed(\"Caracteristica\", \"Caracteristiscas_Unicas\").show(truncate = False)\n",
    "df.select(count_distinct(col(\"Caracteristica\")).alias(\"Caracteristicas_Distintas\")).show()"
   ]
  },
  {
   "cell_type": "code",
   "execution_count": 12,
   "metadata": {
    "colab": {
     "base_uri": "https://localhost:8080/"
    },
    "id": "quSYj_iU2h1C",
    "outputId": "a680c3a1-0282-4033-c490-acc265d8ecd1"
   },
   "outputs": [
    {
     "name": "stdout",
     "output_type": "stream",
     "text": [
      "+--------------------------------+\n",
      "|Caracteristica                  |\n",
      "+--------------------------------+\n",
      "|Fragrância                      |\n",
      "|Não encolhe na lavagem          |\n",
      "|Sabor agradável                 |\n",
      "|Benéfico                        |\n",
      "|Confortável                     |\n",
      "|Custo-benefício                 |\n",
      "|É quente                        |\n",
      "|Resistente às condições externas|\n",
      "|Resistência                     |\n",
      "|Qualidade do tecido             |\n",
      "|Fácil de digerir                |\n",
      "|Praticidade                     |\n",
      "|Absorção                        |\n",
      "|Relação preço-qualidade         |\n",
      "|Durabilidade                    |\n",
      "|Qualidade dos materiais         |\n",
      "+--------------------------------+\n",
      "\n",
      "+-------------------------+\n",
      "|Caracteristicas_Distintas|\n",
      "+-------------------------+\n",
      "|                       16|\n",
      "+-------------------------+\n",
      "\n"
     ]
    }
   ],
   "source": [
    "df1 = df.withColumn(\"Caracteristica\", when(col(\"Caracteristica\") == \"Relación precio-calidad\", \"Relação preço-qualidade\").otherwise(col(\"Caracteristica\"))). \\\n",
    "withColumn(\"Caracteristica\", when(col(\"Caracteristica\") == \"Calidad de los materiales\", \"Qualidade dos materiais\").otherwise(col(\"Caracteristica\")))\n",
    "df1.select(\"Caracteristica\").distinct().show(truncate = False)\n",
    "df1.select(count_distinct(col(\"Caracteristica\")).alias(\"Caracteristicas_Distintas\")).show()"
   ]
  },
  {
   "cell_type": "code",
   "execution_count": 13,
   "metadata": {
    "colab": {
     "base_uri": "https://localhost:8080/"
    },
    "id": "XtXWCwJT3sip",
    "outputId": "8a0dfa07-7ede-40b7-9371-093008ea98e6"
   },
   "outputs": [
    {
     "name": "stdout",
     "output_type": "stream",
     "text": [
      "+-----------+--------------------+---------+\n",
      "|Quant_Nulos|Quant_Caracteristica|Quant_URL|\n",
      "+-----------+--------------------+---------+\n",
      "|          0|                   0|        0|\n",
      "+-----------+--------------------+---------+\n",
      "\n"
     ]
    }
   ],
   "source": [
    "nulos = df.select([sum(col(\"Aval_Caracteristica\").isNull().cast(\"int\")).alias(\"Quant_Nulos\"), \\\n",
    "                                      sum(col(\"Caracteristica\").isNull().cast(\"int\")).alias(\"Quant_Caracteristica\"), \\\n",
    "                                       sum(col(\"URL\").isNull().cast(\"int\")).alias(\"Quant_URL\")])\n",
    "nulos.show()"
   ]
  },
  {
   "cell_type": "code",
   "execution_count": 14,
   "metadata": {
    "id": "NbZkHp2IBx60"
   },
   "outputs": [],
   "source": [
    "df2 = df.withColumn(\"Aval_Caracteristica\", regexp_extract(\"Aval_Caracteristica\", r\"(\\d+(\\.\\d+)?)\", 1))"
   ]
  },
  {
   "cell_type": "code",
   "execution_count": 15,
   "metadata": {
    "colab": {
     "base_uri": "https://localhost:8080/"
    },
    "id": "6ln74xwwCcC1",
    "outputId": "73319f31-a1a1-4cd5-f6e2-59a2d416593c"
   },
   "outputs": [
    {
     "name": "stdout",
     "output_type": "stream",
     "text": [
      "+--------------------+-------------------+--------------------+\n",
      "|      Caracteristica|Aval_Caracteristica|                 URL|\n",
      "+--------------------+-------------------+--------------------+\n",
      "|     Custo-benefício|                4.6|https://www.merca...|\n",
      "|            Absorção|                4.7|https://www.merca...|\n",
      "|Qualidade dos mat...|                4.6|https://www.merca...|\n",
      "|     Custo-benefício|                4.6|https://www.merca...|\n",
      "|     Sabor agradável|                4.7|https://www.merca...|\n",
      "|            Benéfico|                4.7|https://www.merca...|\n",
      "|    Fácil de digerir|                4.7|https://www.merca...|\n",
      "|     Custo-benefício|                4.8|https://www.merca...|\n",
      "|     Sabor agradável|                4.8|https://www.merca...|\n",
      "|    Fácil de digerir|                4.8|https://www.merca...|\n",
      "|            Benéfico|                4.6|https://www.merca...|\n",
      "|     Custo-benefício|                4.6|https://produto.m...|\n",
      "|Qualidade dos mat...|                  5|https://produto.m...|\n",
      "|        Durabilidade|                  5|https://produto.m...|\n",
      "|     Custo-benefício|                4.2|https://www.merca...|\n",
      "|        Durabilidade|                4.7|https://www.merca...|\n",
      "|         Resistência|                4.7|https://www.merca...|\n",
      "|            Absorção|                3.5|https://click1.me...|\n",
      "|     Custo-benefício|                3.9|https://click1.me...|\n",
      "|Qualidade dos mat...|                3.4|https://click1.me...|\n",
      "+--------------------+-------------------+--------------------+\n",
      "only showing top 20 rows\n",
      "\n"
     ]
    }
   ],
   "source": [
    "df2.show()"
   ]
  },
  {
   "cell_type": "code",
   "execution_count": 16,
   "metadata": {
    "id": "nQ2nDJDiEJee"
   },
   "outputs": [],
   "source": [
    "df3 = df2.withColumn(\"Aval_Caracteristica\",col(\"Aval_Caracteristica\").cast(\"double\"))"
   ]
  },
  {
   "cell_type": "code",
   "execution_count": 17,
   "metadata": {
    "colab": {
     "base_uri": "https://localhost:8080/"
    },
    "id": "wUQhF0CKGf_k",
    "outputId": "b1e4d800-b7b5-40a4-c089-13ccaedba4e3"
   },
   "outputs": [
    {
     "name": "stdout",
     "output_type": "stream",
     "text": [
      "root\n",
      " |-- Caracteristica: string (nullable = true)\n",
      " |-- Aval_Caracteristica: double (nullable = true)\n",
      " |-- URL: string (nullable = true)\n",
      "\n"
     ]
    }
   ],
   "source": [
    "df3.printSchema()"
   ]
  },
  {
   "cell_type": "code",
   "execution_count": 18,
   "metadata": {
    "colab": {
     "base_uri": "https://localhost:8080/"
    },
    "id": "KsGlg1smG_sB",
    "outputId": "8da209a7-7453-4785-df2c-fe1c1ab53f8f"
   },
   "outputs": [
    {
     "name": "stdout",
     "output_type": "stream",
     "text": [
      "+--------------------+-------------------+--------------------+\n",
      "|      Caracteristica|Aval_Caracteristica|                 URL|\n",
      "+--------------------+-------------------+--------------------+\n",
      "|     Custo-benefício|                4.6|https://www.merca...|\n",
      "|            Absorção|                4.7|https://www.merca...|\n",
      "|Qualidade dos mat...|                4.6|https://www.merca...|\n",
      "|     Custo-benefício|                4.6|https://www.merca...|\n",
      "|     Sabor agradável|                4.7|https://www.merca...|\n",
      "|            Benéfico|                4.7|https://www.merca...|\n",
      "|    Fácil de digerir|                4.7|https://www.merca...|\n",
      "|     Custo-benefício|                4.8|https://www.merca...|\n",
      "|     Sabor agradável|                4.8|https://www.merca...|\n",
      "|    Fácil de digerir|                4.8|https://www.merca...|\n",
      "|            Benéfico|                4.6|https://www.merca...|\n",
      "|     Custo-benefício|                4.6|https://produto.m...|\n",
      "|Qualidade dos mat...|                5.0|https://produto.m...|\n",
      "|        Durabilidade|                5.0|https://produto.m...|\n",
      "|     Custo-benefício|                4.2|https://www.merca...|\n",
      "|        Durabilidade|                4.7|https://www.merca...|\n",
      "|         Resistência|                4.7|https://www.merca...|\n",
      "|            Absorção|                3.5|https://click1.me...|\n",
      "|     Custo-benefício|                3.9|https://click1.me...|\n",
      "|Qualidade dos mat...|                3.4|https://click1.me...|\n",
      "+--------------------+-------------------+--------------------+\n",
      "only showing top 20 rows\n",
      "\n"
     ]
    }
   ],
   "source": [
    "df3.show()"
   ]
  },
  {
   "cell_type": "code",
   "execution_count": 19,
   "metadata": {
    "colab": {
     "base_uri": "https://localhost:8080/"
    },
    "id": "0Qe2SuBpJCrT",
    "outputId": "c3190ba3-3e4a-4832-a22f-aff0f84b9777"
   },
   "outputs": [
    {
     "data": {
      "text/plain": [
       "4256"
      ]
     },
     "execution_count": 19,
     "metadata": {},
     "output_type": "execute_result"
    }
   ],
   "source": [
    "df3.count()"
   ]
  },
  {
   "cell_type": "code",
   "execution_count": 20,
   "metadata": {
    "colab": {
     "base_uri": "https://localhost:8080/"
    },
    "id": "xsXBrnfH02kb",
    "outputId": "47a85ee8-f4ee-4b60-e5a7-4e735e160f77"
   },
   "outputs": [
    {
     "name": "stdout",
     "output_type": "stream",
     "text": [
      "+----+--------------------+-------------------+\n",
      "|  ID|      Caracteristica|Aval_Caracteristica|\n",
      "+----+--------------------+-------------------+\n",
      "|1419|     Custo-benefício|                4.6|\n",
      "|1419|            Absorção|                4.7|\n",
      "|1419|Qualidade dos mat...|                4.6|\n",
      "|1500|     Custo-benefício|                4.6|\n",
      "|1500|     Sabor agradável|                4.7|\n",
      "|1500|            Benéfico|                4.7|\n",
      "|1500|    Fácil de digerir|                4.7|\n",
      "| 631|     Custo-benefício|                4.8|\n",
      "| 631|     Sabor agradável|                4.8|\n",
      "| 631|    Fácil de digerir|                4.8|\n",
      "| 631|            Benéfico|                4.6|\n",
      "|1703|     Custo-benefício|                4.6|\n",
      "|1703|Qualidade dos mat...|                5.0|\n",
      "|1703|        Durabilidade|                5.0|\n",
      "|2059|     Custo-benefício|                4.2|\n",
      "|2059|        Durabilidade|                4.7|\n",
      "|2059|         Resistência|                4.7|\n",
      "|2005|            Absorção|                3.5|\n",
      "|2005|     Custo-benefício|                3.9|\n",
      "|2005|Qualidade dos mat...|                3.4|\n",
      "+----+--------------------+-------------------+\n",
      "only showing top 20 rows\n",
      "\n"
     ]
    }
   ],
   "source": [
    "id_urls = spark.read.csv(\"dados\\IDs_URLs.csv\", sep = \";\", header = True)\n",
    "df3_tratado = id_urls.join(df3, on=\"URL\", how=\"inner\")\n",
    "df3_tratado = df3_tratado.drop(\"URL\")\n",
    "df3_tratado.show()"
   ]
  },
  {
   "cell_type": "code",
   "execution_count": null,
   "metadata": {
    "id": "oDLssGLBJGVu"
   },
   "outputs": [],
   "source": [
    "df3_tratado.write.parquet(\"dados\\df3_tratado.parquet\")"
   ]
  },
  {
   "cell_type": "code",
   "execution_count": 21,
   "metadata": {},
   "outputs": [
    {
     "name": "stdout",
     "output_type": "stream",
     "text": [
      "root\n",
      " |-- ID: string (nullable = true)\n",
      " |-- Caracteristica: string (nullable = true)\n",
      " |-- Aval_Caracteristica: double (nullable = true)\n",
      "\n"
     ]
    }
   ],
   "source": [
    "df3_tratado.printSchema()"
   ]
  }
 ],
 "metadata": {
  "colab": {
   "provenance": []
  },
  "kernelspec": {
   "display_name": "Python 3 (ipykernel)",
   "language": "python",
   "name": "python3"
  },
  "language_info": {
   "codemirror_mode": {
    "name": "ipython",
    "version": 3
   },
   "file_extension": ".py",
   "mimetype": "text/x-python",
   "name": "python",
   "nbconvert_exporter": "python",
   "pygments_lexer": "ipython3",
   "version": "3.9.12"
  }
 },
 "nbformat": 4,
 "nbformat_minor": 1
}
