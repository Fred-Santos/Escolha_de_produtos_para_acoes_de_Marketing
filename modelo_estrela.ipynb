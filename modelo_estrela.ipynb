{
 "cells": [
  {
   "cell_type": "code",
   "execution_count": 1,
   "id": "0d5cf462",
   "metadata": {},
   "outputs": [],
   "source": [
    "from pyspark.sql import SparkSession"
   ]
  },
  {
   "cell_type": "code",
   "execution_count": 14,
   "id": "dad65f41",
   "metadata": {},
   "outputs": [],
   "source": [
    "spark = SparkSession.builder \\\n",
    ".appName('tabelas') \\\n",
    ".getOrCreate()"
   ]
  },
  {
   "cell_type": "code",
   "execution_count": 15,
   "id": "caf1961d",
   "metadata": {},
   "outputs": [],
   "source": [
    "from pyspark.sql.functions import col, count, sum, when, countDistinct, min, \\\n",
    "max, avg, round, lit, row_number, desc, asc, log1p, percent_rank, upper\n",
    "from pyspark.sql.window import Window"
   ]
  },
  {
   "cell_type": "code",
   "execution_count": 16,
   "id": "0c436bce",
   "metadata": {},
   "outputs": [],
   "source": [
    "df1 = spark.read.parquet(r\"C:\\Users\\fred\\Documents\\CursoFullStack\\Projeto\\Web Scraping\\Dados\\df1_tratado.parquet\")\n",
    "df3 = spark.read.parquet(r\"C:\\Users\\fred\\Documents\\CursoFullStack\\Projeto\\Web Scraping\\Dados\\df3_tratado.parquet\")\n",
    "df4 = spark.read.csv(r\"C:\\Users\\fred\\Documents\\CursoFullStack\\Projeto\\Web Scraping\\Dados\\IDs_URLs.csv\", sep=';', header=True)"
   ]
  },
  {
   "cell_type": "code",
   "execution_count": 17,
   "id": "87b31901",
   "metadata": {},
   "outputs": [],
   "source": [
    "# 1. Média global de avaliações\n",
    "media_avaliacoes_produtos = df1.select(avg(col(\"Avaliacao\"))).collect()[0][0]\n",
    "m = 10  # valor mínimo de confiança\n",
    "\n",
    "# 2. Calcula nota ponderada (WR)\n",
    "df_transicao = df1.withColumn(\n",
    "    'avaliacao_ponderada',\n",
    "    (col('Quant_Avaliacoes') / (col('Quant_Avaliacoes') + lit(m))) * col('Avaliacao') +\n",
    "    ((lit(m) / (col('Quant_Avaliacoes') + lit(m))) * lit(media_avaliacoes_produtos))\n",
    ")\n",
    "\n",
    "# 3. Escore de Engajamento\n",
    "df_transicao = df_transicao.withColumn(\n",
    "    'Escore_Engajamento',\n",
    "    log1p(col('Quant_Avaliacoes') + col('Quant_Comentarios'))\n",
    ")\n",
    "\n",
    "# 4. Escore Custo-Benefício (evita divisão por zero)\n",
    "df_transicao = df_transicao.withColumn(\n",
    "    'Escore_Custo_Beneficio',\n",
    "    when(col('Preco') > 0, col('avaliacao_ponderada') / col('Preco')).otherwise(lit(None))\n",
    ")\n",
    "\n",
    "# 5. Faixa de Preço (quantis)\n",
    "quantis = df_transicao.approxQuantile(\"Preco\", [0.33, 0.66], 0.01)\n",
    "baixo, medio = quantis[0], quantis[1]\n",
    "\n",
    "df_transicao = df_transicao.withColumn(\n",
    "    \"Faixa_Preco\",\n",
    "    when(col(\"Preco\") <= baixo, \"Baixo\")\n",
    "    .when((col(\"Preco\") > baixo) & (col(\"Preco\") <= medio), \"Médio\")\n",
    "    .otherwise(\"Alto\")\n",
    ")\n",
    "\n",
    "# 6. Produto Destaque (WR ≥ 4.5 e Engajamento ≥ mediana)\n",
    "\n",
    "# Mediana do engajamento\n",
    "mediana_engajamento = df_transicao.approxQuantile(\"Escore_Engajamento\", [0.5], 0.01)[0]\n",
    "\n",
    "df_transicao = df_transicao.withColumn(\n",
    "    \"Produto_Destaque\",\n",
    "    when((col(\"avaliacao_ponderada\") >= 4.5) & (col(\"Escore_Engajamento\") >= mediana_engajamento), True).otherwise(False)\n",
    ")\n",
    "\n",
    "# Resultado final\n",
    "fato_avaliacoes_produto = df_transicao\n"
   ]
  },
  {
   "cell_type": "code",
   "execution_count": 18,
   "id": "76f7ad63",
   "metadata": {},
   "outputs": [],
   "source": [
    "dim_produto = df1.select('ID', 'Produto', 'Categoria', 'Marca')"
   ]
  },
  {
   "cell_type": "code",
   "execution_count": 19,
   "id": "3cc5ac46",
   "metadata": {},
   "outputs": [],
   "source": [
    "dim_caracteristicas = df3"
   ]
  },
  {
   "cell_type": "code",
   "execution_count": 20,
   "id": "7cc71747",
   "metadata": {},
   "outputs": [],
   "source": [
    "dim_url = df4"
   ]
  },
  {
   "cell_type": "code",
   "execution_count": 21,
   "id": "e112ee5f",
   "metadata": {},
   "outputs": [],
   "source": [
    "# Padroniza a marca (boa prática antes de agrupar)\n",
    "df1 = df1.withColumn(\"Marca\", upper(col(\"Marca\")))\n",
    "\n",
    "# Agregações por marca\n",
    "dim_marca = fato_avaliacoes_produto.groupBy(\"Marca\").agg(\n",
    "    countDistinct(\"ID\").alias(\"Qtd_Produtos\"),\n",
    "    avg(\"avaliacao_ponderada\").alias(\"Media_Avaliacao_Marca\"),\n",
    "    avg(\"Escore_Engajamento\").alias(\"Engajamento_Marca_Medio\"),\n",
    "    avg(\"Preco\").alias(\"Preco_Medio_Marca\")\n",
    ")\n",
    "\n",
    "# Quantis para definir as faixas\n",
    "quantis = dim_marca.approxQuantile(\"Preco_Medio_Marca\", [0.33, 0.66], 0.01)\n",
    "baixo, medio = quantis[0], quantis[1]\n",
    "\n",
    "# Adiciona faixa de preço por marca\n",
    "dim_marca = dim_marca.withColumn(\n",
    "    \"Faixa_Preco_Marca\",\n",
    "    when(col(\"Preco_Medio_Marca\") <= baixo, \"Baixo\")\n",
    "    .when((col(\"Preco_Medio_Marca\") > baixo) & (col(\"Preco_Medio_Marca\") <= medio), \"Médio\")\n",
    "    .otherwise(\"Alto\")\n",
    ")\n"
   ]
  },
  {
   "cell_type": "code",
   "execution_count": 22,
   "id": "6669f4ee",
   "metadata": {},
   "outputs": [],
   "source": [
    "# Agrupamento por Categoria\n",
    "dim_categoria = fato_avaliacoes_produto.groupBy(\"Categoria\").agg(\n",
    "    countDistinct(\"ID\").alias(\"Qtd_Produtos\"),\n",
    "    avg(\"avaliacao_ponderada\").alias(\"Media_Avaliacao_Categoria\"),\n",
    "    avg(\"Escore_Engajamento\").alias(\"Engajamento_Categoria_Medio\"),\n",
    "    avg(\"Preco\").alias(\"Preco_Medio_Categoria\")\n",
    ")\n",
    "\n",
    "# Definindo faixas de preço por categoria com quantis\n",
    "quantis = dim_categoria.approxQuantile(\"Preco_Medio_Categoria\", [0.33, 0.66], 0.01)\n",
    "baixo, medio = quantis[0], quantis[1]\n",
    "\n",
    "dim_categoria = dim_categoria.withColumn(\n",
    "    \"Faixa_Preco_Categoria\",\n",
    "    when(col(\"Preco_Medio_Categoria\") <= baixo, \"Baixo\")\n",
    "    .when((col(\"Preco_Medio_Categoria\") > baixo) & (col(\"Preco_Medio_Categoria\") <= medio), \"Médio\")\n",
    "    .otherwise(\"Alto\")\n",
    ")\n"
   ]
  },
  {
   "cell_type": "code",
   "execution_count": 23,
   "id": "39465b50",
   "metadata": {},
   "outputs": [],
   "source": [
    "fato_avaliacoes_produto.write.parquet(r\"C:\\Users\\fred\\Documents\\CursoFullStack\\Projeto\\Web Scraping\\Dados\\modelo_estrela\\fato_avaliacoes_produto\")\n",
    "dim_produto.write.parquet(r\"C:\\Users\\fred\\Documents\\CursoFullStack\\Projeto\\Web Scraping\\Dados\\modelo_estrela\\dim_produto\")\n",
    "dim_caracteristicas.write.parquet(r\"C:\\Users\\fred\\Documents\\CursoFullStack\\Projeto\\Web Scraping\\Dados\\modelo_estrela\\dim_caracteristicas\")\n",
    "dim_url.write.parquet(r\"C:\\Users\\fred\\Documents\\CursoFullStack\\Projeto\\Web Scraping\\Dados\\modelo_estrela\\dim_url\")\n",
    "dim_marca.write.parquet(r\"C:\\Users\\fred\\Documents\\CursoFullStack\\Projeto\\Web Scraping\\Dados\\modelo_estrela\\dim_marca\")\n",
    "dim_categoria.write.parquet(r\"C:\\Users\\fred\\Documents\\CursoFullStack\\Projeto\\Web Scraping\\Dados\\modelo_estrela\\dim_categoria\")"
   ]
  },
  {
   "cell_type": "code",
   "execution_count": null,
   "id": "65e3d41b",
   "metadata": {},
   "outputs": [],
   "source": []
  },
  {
   "cell_type": "code",
   "execution_count": null,
   "id": "000fc289",
   "metadata": {},
   "outputs": [],
   "source": []
  }
 ],
 "metadata": {
  "kernelspec": {
   "display_name": "Python 3 (ipykernel)",
   "language": "python",
   "name": "python3"
  },
  "language_info": {
   "codemirror_mode": {
    "name": "ipython",
    "version": 3
   },
   "file_extension": ".py",
   "mimetype": "text/x-python",
   "name": "python",
   "nbconvert_exporter": "python",
   "pygments_lexer": "ipython3",
   "version": "3.9.12"
  }
 },
 "nbformat": 4,
 "nbformat_minor": 5
}
