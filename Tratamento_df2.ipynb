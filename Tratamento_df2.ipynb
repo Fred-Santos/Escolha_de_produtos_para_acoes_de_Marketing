{
 "cells": [
  {
   "cell_type": "code",
   "execution_count": 1,
   "metadata": {
    "colab": {
     "base_uri": "https://localhost:8080/"
    },
    "id": "2beWP8SiMg8w",
    "outputId": "0af52cb1-ebba-4d6a-df3f-c2ba271dc102"
   },
   "outputs": [
    {
     "name": "stdout",
     "output_type": "stream",
     "text": [
      "Requirement already satisfied: pyspark in c:\\users\\fred\\anaconda3\\lib\\site-packages (3.5.3)\n",
      "Requirement already satisfied: py4j==0.10.9.7 in c:\\users\\fred\\anaconda3\\lib\\site-packages (from pyspark) (0.10.9.7)\n"
     ]
    }
   ],
   "source": [
    "!pip install pyspark"
   ]
  },
  {
   "cell_type": "code",
   "execution_count": 2,
   "metadata": {
    "id": "azec8PsNyavc"
   },
   "outputs": [],
   "source": [
    "from pyspark.sql import SparkSession\n",
    "spark = SparkSession.builder \\\n",
    ".appName(\"Prata3\") \\\n",
    ".getOrCreate()"
   ]
  },
  {
   "cell_type": "code",
   "execution_count": 3,
   "metadata": {
    "id": "qQKsF-VtziTi"
   },
   "outputs": [],
   "source": [
    "from pyspark.sql.functions import col, sum, count, when, countDistinct"
   ]
  },
  {
   "cell_type": "code",
   "execution_count": 4,
   "metadata": {
    "id": "7KutkwYuywML"
   },
   "outputs": [],
   "source": [
    "df = spark.read.csv(\"dados\\df2.csv\", sep=\";\", header=True)"
   ]
  },
  {
   "cell_type": "code",
   "execution_count": 5,
   "metadata": {
    "colab": {
     "base_uri": "https://localhost:8080/"
    },
    "id": "0gebNdf-zC_L",
    "outputId": "94527ca6-0149-4878-ff0a-565ff88accf1"
   },
   "outputs": [
    {
     "name": "stdout",
     "output_type": "stream",
     "text": [
      "+--------------------+--------------------+\n",
      "|                 URL|         Comentários|\n",
      "+--------------------+--------------------+\n",
      "|https://www.merca...|Está muito caro e...|\n",
      "|https://www.merca...|                NULL|\n",
      "|https://www.merca...|Eu adoro este tap...|\n",
      "|https://www.merca...|Absorve bem. Indico.|\n",
      "|https://www.merca...|Já usei vários ta...|\n",
      "|https://www.merca...|Excelente qualida...|\n",
      "|https://www.merca...|O produto é excel...|\n",
      "|https://www.merca...|Estou sempre comp...|\n",
      "|https://www.merca...|Muito boa qualida...|\n",
      "|https://www.merca...|O super secão é o...|\n",
      "|https://www.merca...|      Já foi melhor.|\n",
      "|https://www.merca...|              Ótimo.|\n",
      "|https://www.merca...|Meu cachorro so a...|\n",
      "|https://www.merca...|Muito bom, não va...|\n",
      "|https://www.merca...|                Bom.|\n",
      "|https://www.merca...|  Sempre uso, é bom.|\n",
      "|https://www.merca...|Muito bom só uso ...|\n",
      "|https://www.merca...|É um bom produto,...|\n",
      "|https://www.merca...|        Bom produto.|\n",
      "|https://www.merca...|Já experimentei d...|\n",
      "+--------------------+--------------------+\n",
      "only showing top 20 rows\n",
      "\n"
     ]
    }
   ],
   "source": [
    "df.show()"
   ]
  },
  {
   "cell_type": "code",
   "execution_count": 6,
   "metadata": {
    "colab": {
     "base_uri": "https://localhost:8080/"
    },
    "id": "yLfnhNG3zFTW",
    "outputId": "78a9fcf0-20ae-420d-9af3-22d1588ddc15"
   },
   "outputs": [
    {
     "data": {
      "text/plain": [
       "44907"
      ]
     },
     "execution_count": 6,
     "metadata": {},
     "output_type": "execute_result"
    }
   ],
   "source": [
    "df.count()"
   ]
  },
  {
   "cell_type": "code",
   "execution_count": 7,
   "metadata": {
    "colab": {
     "base_uri": "https://localhost:8080/"
    },
    "id": "Zoa4x2pUzIp1",
    "outputId": "7377411b-7056-4be3-90e4-9eb3a2dade7e"
   },
   "outputs": [
    {
     "name": "stdout",
     "output_type": "stream",
     "text": [
      "+--------------------+--------------------+\n",
      "|                 URL|         Comentarios|\n",
      "+--------------------+--------------------+\n",
      "|https://www.merca...|Está muito caro e...|\n",
      "|https://www.merca...|                NULL|\n",
      "|https://www.merca...|Eu adoro este tap...|\n",
      "|https://www.merca...|Absorve bem. Indico.|\n",
      "|https://www.merca...|Já usei vários ta...|\n",
      "|https://www.merca...|Excelente qualida...|\n",
      "|https://www.merca...|O produto é excel...|\n",
      "|https://www.merca...|Estou sempre comp...|\n",
      "|https://www.merca...|Muito boa qualida...|\n",
      "|https://www.merca...|O super secão é o...|\n",
      "|https://www.merca...|      Já foi melhor.|\n",
      "|https://www.merca...|              Ótimo.|\n",
      "|https://www.merca...|Meu cachorro so a...|\n",
      "|https://www.merca...|Muito bom, não va...|\n",
      "|https://www.merca...|                Bom.|\n",
      "|https://www.merca...|  Sempre uso, é bom.|\n",
      "|https://www.merca...|Muito bom só uso ...|\n",
      "|https://www.merca...|É um bom produto,...|\n",
      "|https://www.merca...|        Bom produto.|\n",
      "|https://www.merca...|Já experimentei d...|\n",
      "+--------------------+--------------------+\n",
      "only showing top 20 rows\n",
      "\n"
     ]
    }
   ],
   "source": [
    "df = df.withColumnRenamed(\"Comentários\", \"Comentarios\")\n",
    "df.show()"
   ]
  },
  {
   "cell_type": "code",
   "execution_count": 8,
   "metadata": {
    "colab": {
     "base_uri": "https://localhost:8080/"
    },
    "id": "AHNW4AhFzYtX",
    "outputId": "5ef2442f-5d47-4b43-e31d-438cf9600a14"
   },
   "outputs": [
    {
     "data": {
      "text/plain": [
       "4042"
      ]
     },
     "execution_count": 8,
     "metadata": {},
     "output_type": "execute_result"
    }
   ],
   "source": [
    "df.filter(col(\"Comentarios\").isNull()).count()"
   ]
  },
  {
   "cell_type": "code",
   "execution_count": 9,
   "metadata": {
    "colab": {
     "base_uri": "https://localhost:8080/"
    },
    "id": "fyWT-k_9zgcK",
    "outputId": "c28e076e-f753-472f-bf82-7b1d638dad97"
   },
   "outputs": [
    {
     "name": "stdout",
     "output_type": "stream",
     "text": [
      "+-----------+\n",
      "|Quant_Nulos|\n",
      "+-----------+\n",
      "|       4042|\n",
      "+-----------+\n",
      "\n"
     ]
    }
   ],
   "source": [
    "df.select(count(when(df[\"Comentarios\"].isNull(), True)).alias(\"Quant_Nulos\")).show()"
   ]
  },
  {
   "cell_type": "code",
   "execution_count": 10,
   "metadata": {
    "id": "gYpjd_gvz619"
   },
   "outputs": [],
   "source": [
    "df_sem_nulos = df.dropna()"
   ]
  },
  {
   "cell_type": "code",
   "execution_count": 11,
   "metadata": {
    "colab": {
     "base_uri": "https://localhost:8080/"
    },
    "id": "JK7UgK5c37V8",
    "outputId": "155695a5-00cd-4f6e-ceca-b95097c9132a"
   },
   "outputs": [
    {
     "data": {
      "text/plain": [
       "40865"
      ]
     },
     "execution_count": 11,
     "metadata": {},
     "output_type": "execute_result"
    }
   ],
   "source": [
    "df_sem_nulos.count()"
   ]
  },
  {
   "cell_type": "code",
   "execution_count": 12,
   "metadata": {
    "colab": {
     "base_uri": "https://localhost:8080/"
    },
    "id": "4DXSrhPc393x",
    "outputId": "e62685c1-b6ab-488f-cff4-2b914fe920dc"
   },
   "outputs": [
    {
     "name": "stdout",
     "output_type": "stream",
     "text": [
      "+-----------+\n",
      "|Quant_Nulos|\n",
      "+-----------+\n",
      "|          0|\n",
      "+-----------+\n",
      "\n"
     ]
    }
   ],
   "source": [
    "df_sem_nulos.select(count(when(col(\"Comentarios\").isNull(),True)).alias(\"Quant_Nulos\")).show()"
   ]
  },
  {
   "cell_type": "code",
   "execution_count": 13,
   "metadata": {
    "colab": {
     "base_uri": "https://localhost:8080/"
    },
    "id": "PwzDdIHV4IS5",
    "outputId": "9f8e99bd-fdca-49f6-f988-5660f5608029"
   },
   "outputs": [
    {
     "name": "stdout",
     "output_type": "stream",
     "text": [
      "+-------------------+\n",
      "|count(DISTINCT URL)|\n",
      "+-------------------+\n",
      "|               3520|\n",
      "+-------------------+\n",
      "\n"
     ]
    }
   ],
   "source": [
    "df.select(countDistinct(col(\"URL\"))).show()"
   ]
  },
  {
   "cell_type": "code",
   "execution_count": 14,
   "metadata": {
    "colab": {
     "base_uri": "https://localhost:8080/"
    },
    "id": "nUSWrbXJ-kNq",
    "outputId": "89431b33-71a1-4808-8d9d-7bee10a22844"
   },
   "outputs": [
    {
     "name": "stdout",
     "output_type": "stream",
     "text": [
      "+-------------------+\n",
      "|count(DISTINCT URL)|\n",
      "+-------------------+\n",
      "|               1937|\n",
      "+-------------------+\n",
      "\n"
     ]
    }
   ],
   "source": [
    "df_sem_nulos.select(countDistinct(col(\"URL\"))).show()"
   ]
  },
  {
   "cell_type": "code",
   "execution_count": 16,
   "metadata": {
    "colab": {
     "base_uri": "https://localhost:8080/"
    },
    "id": "a7W-IM_dZpwF",
    "outputId": "ce6eaee8-9db3-4773-a561-bffb89b10efa"
   },
   "outputs": [
    {
     "name": "stdout",
     "output_type": "stream",
     "text": [
      "+----+--------------------+\n",
      "|  ID|         Comentarios|\n",
      "+----+--------------------+\n",
      "|1419|Está muito caro e...|\n",
      "|1419|Eu adoro este tap...|\n",
      "|1419|Absorve bem. Indico.|\n",
      "|1419|Já usei vários ta...|\n",
      "|1419|Excelente qualida...|\n",
      "|1419|O produto é excel...|\n",
      "|1419|Estou sempre comp...|\n",
      "|1419|Muito boa qualida...|\n",
      "|1419|O super secão é o...|\n",
      "|1419|      Já foi melhor.|\n",
      "|1419|              Ótimo.|\n",
      "|1419|Meu cachorro so a...|\n",
      "|1419|Muito bom, não va...|\n",
      "|1419|                Bom.|\n",
      "|1419|  Sempre uso, é bom.|\n",
      "|1419|Muito bom só uso ...|\n",
      "|1419|É um bom produto,...|\n",
      "|1419|        Bom produto.|\n",
      "|1419|Já experimentei d...|\n",
      "|1419|              Ótimo.|\n",
      "+----+--------------------+\n",
      "only showing top 20 rows\n",
      "\n"
     ]
    }
   ],
   "source": [
    "id_urls = spark.read.csv(\"dados\\IDs_URLs.csv\", sep = \";\", header = True)\n",
    "df2_tratado = id_urls.join(df_sem_nulos, on=\"URL\", how=\"inner\")\n",
    "df2_tratado = df2_tratado.drop(\"URL\")\n",
    "df2_tratado.show()"
   ]
  },
  {
   "cell_type": "code",
   "execution_count": 19,
   "metadata": {
    "id": "57OGg7A7c-C4"
   },
   "outputs": [],
   "source": [
    "df2_tratado.write.parquet(\"dados\\df2_tratado.parquet\")"
   ]
  },
  {
   "cell_type": "code",
   "execution_count": 17,
   "metadata": {},
   "outputs": [
    {
     "name": "stdout",
     "output_type": "stream",
     "text": [
      "root\n",
      " |-- ID: string (nullable = true)\n",
      " |-- Comentarios: string (nullable = true)\n",
      "\n"
     ]
    }
   ],
   "source": [
    "df2_tratado.printSchema()"
   ]
  }
 ],
 "metadata": {
  "colab": {
   "provenance": []
  },
  "kernelspec": {
   "display_name": "Python 3 (ipykernel)",
   "language": "python",
   "name": "python3"
  },
  "language_info": {
   "codemirror_mode": {
    "name": "ipython",
    "version": 3
   },
   "file_extension": ".py",
   "mimetype": "text/x-python",
   "name": "python",
   "nbconvert_exporter": "python",
   "pygments_lexer": "ipython3",
   "version": "3.9.12"
  }
 },
 "nbformat": 4,
 "nbformat_minor": 1
}
