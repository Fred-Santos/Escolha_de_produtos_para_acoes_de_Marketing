{
 "cells": [
  {
   "cell_type": "code",
   "execution_count": 1,
   "metadata": {
    "colab": {
     "base_uri": "https://localhost:8080/"
    },
    "id": "1RCoTYvd789u",
    "outputId": "98884ce6-1d26-4e35-f691-f7e21088bc14"
   },
   "outputs": [
    {
     "name": "stdout",
     "output_type": "stream",
     "text": [
      "Requirement already satisfied: pyspark in c:\\users\\fred\\anaconda3\\lib\\site-packages (3.5.3)\n",
      "Requirement already satisfied: py4j==0.10.9.7 in c:\\users\\fred\\anaconda3\\lib\\site-packages (from pyspark) (0.10.9.7)\n"
     ]
    }
   ],
   "source": [
    "!pip install pyspark"
   ]
  },
  {
   "cell_type": "code",
   "execution_count": null,
   "metadata": {
    "id": "ZL0yd1QGTJfD"
   },
   "outputs": [],
   "source": []
  },
  {
   "cell_type": "code",
   "execution_count": 2,
   "metadata": {
    "id": "tRlQwD9i8BCu"
   },
   "outputs": [],
   "source": [
    "from pyspark.sql import SparkSession\n",
    "spark = SparkSession.builder \\\n",
    ".appName(\"ID_URL\") \\\n",
    ".getOrCreate()"
   ]
  },
  {
   "cell_type": "code",
   "execution_count": 3,
   "metadata": {
    "id": "arpwfQkB9iFH"
   },
   "outputs": [],
   "source": [
    "from pyspark.sql.functions import countDistinct, col, count, when, monotonically_increasing_id"
   ]
  },
  {
   "cell_type": "code",
   "execution_count": 4,
   "metadata": {
    "colab": {
     "base_uri": "https://localhost:8080/"
    },
    "id": "CTpXSl1T8Zxz",
    "outputId": "12a52956-93f7-49c4-deb5-8cdf5bfcb861"
   },
   "outputs": [
    {
     "name": "stdout",
     "output_type": "stream",
     "text": [
      "+--------------------+--------------------+--------------------+------+---------+-----------------+------------------+--------------------+\n",
      "|           Categoria|             Produto|               Marca| Preco|Avaliacao|Quant. Avaliacoes|Quant. Comentários|                 URL|\n",
      "+--------------------+--------------------+--------------------+------+---------+-----------------+------------------+--------------------+\n",
      "|Tapete Higienico ...|Tapete Higiênico ...|               Petix| 74.49|      4.8|           2210.0|   373 comentários|https://www.merca...|\n",
      "|   Racao Golden 15kg|Golden formula pr...|              Golden|191.28|      4.8|            600.0|   106 comentários|https://www.merca...|\n",
      "|              Keldog|Bifinho para Cães...|              Keldog|  25.7|      4.9|            643.0|    96 comentários|https://www.merca...|\n",
      "|Shampoo Cloresten...|1 Cloresten Shamp...|  Agener União Noxxi| 209.9|      4.9|            184.0|    46 comentários|https://www.merca...|\n",
      "|               Camas|Cama Pet Cachorro...|                 TOH|377.37|      5.0|             16.0|     2 comentários|https://produto.m...|\n",
      "|               Ossos|Brinquedo Para Ca...|            Benebone| 104.5|      4.6|             86.0|    20 comentários|https://www.merca...|\n",
      "|Shampoo e Condici...|Kit Shampoo Clore...|              Agener| 199.9|      4.9|            250.0|    58 comentários|https://click1.me...|\n",
      "|    Tapete Higienico|Tapetes Higiênico...|                NULL| 47.39|      3.9|              9.0|     3 comentários|https://click1.me...|\n",
      "| Biscoitos para Cães|Combo 4 Lata Pedi...|Ração úmida para ...| 49.42|      5.0|              2.0|              NULL|https://click1.me...|\n",
      "| Biscoitos para Cães|Petisco Bilisko B...|             Bilisko| 37.99|      4.8|            303.0|    54 comentários|https://www.merca...|\n",
      "|Shampoo e Condici...|Shampoo Hidratant...|            Allermyl|215.12|      4.9|             83.0|    18 comentários|https://produto.m...|\n",
      "|               Camas|Kit Cama Caminha ...|              Mundog|  78.9|      4.6|           2774.0|   851 comentários|https://produto.m...|\n",
      "|               Ossos|Brinquedo Mordedo...|Osso Bio Bone Mai...| 65.27|      4.5|            107.0|    32 comentários|https://produto.m...|\n",
      "|Tapete Higienico ...|Econopad Carvão B...|            Econopad|  66.8|      4.6|           1921.0|   540 comentários|https://www.merca...|\n",
      "|     Ração para Cães|Ração Alimento Pl...|               Pleno| 76.27|      4.7|            205.0|    51 comentários|https://www.merca...|\n",
      "|               Camas|Kit Cama Caminha ...|              Mundog|  68.0|      4.6|            455.0|   141 comentários|https://click1.me...|\n",
      "|Shampoo e Condici...|Sebotrat O 200ml ...|Agener Banho Pelagem| 105.9|      4.8|            113.0|    27 comentários|https://click1.me...|\n",
      "|    Tapete Higienico|Tapete Higiênico ...|       GRUPO DIAMOND|252.45|      4.4|             19.0|     7 comentários|https://click1.me...|\n",
      "|  Pedigree Dentastix|Petisco para Cães...|            Pedigree|  23.9|      4.9|            401.0|    59 comentários|https://www.merca...|\n",
      "|Shampoo e Condici...|Kit Shampoo Clore...|Agener União Hidr...|143.35|      4.9|            216.0|    47 comentários|https://produto.m...|\n",
      "+--------------------+--------------------+--------------------+------+---------+-----------------+------------------+--------------------+\n",
      "only showing top 20 rows\n",
      "\n"
     ]
    }
   ],
   "source": [
    "df = spark.read.csv(\"dados\\df1.csv\", sep=\";\", header=True)\n",
    "df.show()"
   ]
  },
  {
   "cell_type": "code",
   "execution_count": 5,
   "metadata": {
    "colab": {
     "base_uri": "https://localhost:8080/"
    },
    "id": "zgEd597t89QL",
    "outputId": "4043890b-ec59-4f99-da2d-259d0b1d43b3"
   },
   "outputs": [
    {
     "name": "stdout",
     "output_type": "stream",
     "text": [
      "+--------------------+\n",
      "|                 URL|\n",
      "+--------------------+\n",
      "|https://www.merca...|\n",
      "|https://www.merca...|\n",
      "|https://www.merca...|\n",
      "|https://www.merca...|\n",
      "|https://produto.m...|\n",
      "|https://www.merca...|\n",
      "|https://click1.me...|\n",
      "|https://click1.me...|\n",
      "|https://click1.me...|\n",
      "|https://www.merca...|\n",
      "|https://produto.m...|\n",
      "|https://produto.m...|\n",
      "|https://produto.m...|\n",
      "|https://www.merca...|\n",
      "|https://www.merca...|\n",
      "|https://click1.me...|\n",
      "|https://click1.me...|\n",
      "|https://click1.me...|\n",
      "|https://www.merca...|\n",
      "|https://produto.m...|\n",
      "+--------------------+\n",
      "only showing top 20 rows\n",
      "\n"
     ]
    }
   ],
   "source": [
    "df_indice_urls_1 = df.select(\"URL\")\n",
    "df_indice_urls_1.show()"
   ]
  },
  {
   "cell_type": "code",
   "execution_count": 6,
   "metadata": {
    "colab": {
     "base_uri": "https://localhost:8080/"
    },
    "id": "hZixewyA9OUQ",
    "outputId": "80129a85-2a9a-4eb3-f8ee-3cbb9022204d"
   },
   "outputs": [
    {
     "data": {
      "text/plain": [
       "2280"
      ]
     },
     "execution_count": 6,
     "metadata": {},
     "output_type": "execute_result"
    }
   ],
   "source": [
    "df_indice_urls_1.count()"
   ]
  },
  {
   "cell_type": "code",
   "execution_count": 7,
   "metadata": {
    "colab": {
     "base_uri": "https://localhost:8080/"
    },
    "id": "JHtqyMUw9TCZ",
    "outputId": "3a544c3f-0281-4734-ae5f-850d6f9beea4"
   },
   "outputs": [
    {
     "name": "stdout",
     "output_type": "stream",
     "text": [
      "+-------------------+\n",
      "|count(DISTINCT URL)|\n",
      "+-------------------+\n",
      "|               2261|\n",
      "+-------------------+\n",
      "\n"
     ]
    }
   ],
   "source": [
    "df_indice_urls_1.select(countDistinct(col(\"URL\"))).show()"
   ]
  },
  {
   "cell_type": "code",
   "execution_count": 8,
   "metadata": {
    "colab": {
     "base_uri": "https://localhost:8080/"
    },
    "id": "mr3bwI1kVsSL",
    "outputId": "6d298ecb-3265-4eb1-801d-b8ccb6bafc70"
   },
   "outputs": [
    {
     "data": {
      "text/plain": [
       "2261"
      ]
     },
     "execution_count": 8,
     "metadata": {},
     "output_type": "execute_result"
    }
   ],
   "source": [
    "urls_1 = df_indice_urls_1.select(\"URL\").distinct()\n",
    "urls_1.count()"
   ]
  },
  {
   "cell_type": "code",
   "execution_count": 9,
   "metadata": {
    "colab": {
     "base_uri": "https://localhost:8080/"
    },
    "id": "us8GsSXL9vrc",
    "outputId": "c7376944-369e-4f4f-b757-6da05f6a9c40"
   },
   "outputs": [
    {
     "name": "stdout",
     "output_type": "stream",
     "text": [
      "+--------------------------------------------+\n",
      "|count(CASE WHEN (URL IS NULL) THEN true END)|\n",
      "+--------------------------------------------+\n",
      "|                                           0|\n",
      "+--------------------------------------------+\n",
      "\n"
     ]
    }
   ],
   "source": [
    "df_indice_urls_1.select(count(when(col(\"URL\").isNull(), True))).show()"
   ]
  },
  {
   "cell_type": "code",
   "execution_count": 10,
   "metadata": {
    "colab": {
     "base_uri": "https://localhost:8080/"
    },
    "id": "f7uKevri-LO_",
    "outputId": "7e14cc26-5699-4e16-b770-a6b1be0b5c45"
   },
   "outputs": [
    {
     "name": "stdout",
     "output_type": "stream",
     "text": [
      "+--------------------+--------------------+\n",
      "|                 URL|         Comentários|\n",
      "+--------------------+--------------------+\n",
      "|https://www.merca...|Está muito caro e...|\n",
      "|https://www.merca...|                NULL|\n",
      "|https://www.merca...|Eu adoro este tap...|\n",
      "|https://www.merca...|Absorve bem. Indico.|\n",
      "|https://www.merca...|Já usei vários ta...|\n",
      "|https://www.merca...|Excelente qualida...|\n",
      "|https://www.merca...|O produto é excel...|\n",
      "|https://www.merca...|Estou sempre comp...|\n",
      "|https://www.merca...|Muito boa qualida...|\n",
      "|https://www.merca...|O super secão é o...|\n",
      "|https://www.merca...|      Já foi melhor.|\n",
      "|https://www.merca...|              Ótimo.|\n",
      "|https://www.merca...|Meu cachorro so a...|\n",
      "|https://www.merca...|Muito bom, não va...|\n",
      "|https://www.merca...|                Bom.|\n",
      "|https://www.merca...|  Sempre uso, é bom.|\n",
      "|https://www.merca...|Muito bom só uso ...|\n",
      "|https://www.merca...|É um bom produto,...|\n",
      "|https://www.merca...|        Bom produto.|\n",
      "|https://www.merca...|Já experimentei d...|\n",
      "+--------------------+--------------------+\n",
      "only showing top 20 rows\n",
      "\n"
     ]
    }
   ],
   "source": [
    "df2 = spark.read.csv(\"dados\\df2.csv\", sep=\";\", header=True)\n",
    "df2.show()"
   ]
  },
  {
   "cell_type": "code",
   "execution_count": 11,
   "metadata": {
    "id": "Yd5ClMGz_gel"
   },
   "outputs": [],
   "source": [
    "df_indice_urls_2 = df.select(\"URL\")"
   ]
  },
  {
   "cell_type": "code",
   "execution_count": 12,
   "metadata": {
    "colab": {
     "base_uri": "https://localhost:8080/"
    },
    "id": "wdJK2spv_mtX",
    "outputId": "fcb4f4c1-4b2a-4012-ae45-28e0f840c5b7"
   },
   "outputs": [
    {
     "data": {
      "text/plain": [
       "2280"
      ]
     },
     "execution_count": 12,
     "metadata": {},
     "output_type": "execute_result"
    }
   ],
   "source": [
    "df_indice_urls_2.count()"
   ]
  },
  {
   "cell_type": "code",
   "execution_count": 13,
   "metadata": {
    "colab": {
     "base_uri": "https://localhost:8080/"
    },
    "id": "sNZMA6Y3AK1-",
    "outputId": "80725727-2ed1-4a75-ae8a-bcccabd4d1da"
   },
   "outputs": [
    {
     "name": "stdout",
     "output_type": "stream",
     "text": [
      "+-------------------+\n",
      "|count(DISTINCT URL)|\n",
      "+-------------------+\n",
      "|               2261|\n",
      "+-------------------+\n",
      "\n"
     ]
    }
   ],
   "source": [
    "df_indice_urls_2.select(countDistinct(col(\"URL\"))).show()"
   ]
  },
  {
   "cell_type": "code",
   "execution_count": 14,
   "metadata": {
    "colab": {
     "base_uri": "https://localhost:8080/"
    },
    "id": "0LJfoc8DWFLm",
    "outputId": "57ec50cb-0173-4e14-e661-0567826dc6e8"
   },
   "outputs": [
    {
     "data": {
      "text/plain": [
       "2261"
      ]
     },
     "execution_count": 14,
     "metadata": {},
     "output_type": "execute_result"
    }
   ],
   "source": [
    "urls_2 = df_indice_urls_2.select(\"URL\").distinct()\n",
    "urls_2.count()"
   ]
  },
  {
   "cell_type": "code",
   "execution_count": 15,
   "metadata": {
    "colab": {
     "base_uri": "https://localhost:8080/"
    },
    "id": "iRJJOD0dAQ15",
    "outputId": "7915b038-8725-465f-90c6-50cfa1de49a5"
   },
   "outputs": [
    {
     "name": "stdout",
     "output_type": "stream",
     "text": [
      "+--------------------------------------------+\n",
      "|count(CASE WHEN (URL IS NULL) THEN true END)|\n",
      "+--------------------------------------------+\n",
      "|                                           0|\n",
      "+--------------------------------------------+\n",
      "\n"
     ]
    }
   ],
   "source": [
    "df_indice_urls_2.select(count(when(col(\"URL\").isNull(), True))).show()"
   ]
  },
  {
   "cell_type": "code",
   "execution_count": 16,
   "metadata": {
    "colab": {
     "base_uri": "https://localhost:8080/"
    },
    "id": "hl5Nfe8DApyk",
    "outputId": "07ce36dc-e7e3-4002-9e7a-49cb13794426"
   },
   "outputs": [
    {
     "name": "stdout",
     "output_type": "stream",
     "text": [
      "+--------------------+-------------------+--------------------+\n",
      "|      Característica|Aval.Característica|                 URL|\n",
      "+--------------------+-------------------+--------------------+\n",
      "|     Custo-benefício| Avaliação 4.6 de 5|https://www.merca...|\n",
      "|            Absorção| Avaliação 4.7 de 5|https://www.merca...|\n",
      "|Qualidade dos mat...| Avaliação 4.6 de 5|https://www.merca...|\n",
      "|     Custo-benefício| Avaliação 4.6 de 5|https://www.merca...|\n",
      "|     Sabor agradável| Avaliação 4.7 de 5|https://www.merca...|\n",
      "|            Benéfico| Avaliação 4.7 de 5|https://www.merca...|\n",
      "|    Fácil de digerir| Avaliação 4.7 de 5|https://www.merca...|\n",
      "|     Custo-benefício| Avaliação 4.8 de 5|https://www.merca...|\n",
      "|     Sabor agradável| Avaliação 4.8 de 5|https://www.merca...|\n",
      "|    Fácil de digerir| Avaliação 4.8 de 5|https://www.merca...|\n",
      "|            Benéfico| Avaliação 4.6 de 5|https://www.merca...|\n",
      "|     Custo-benefício| Avaliação 4.6 de 5|https://produto.m...|\n",
      "|Qualidade dos mat...|   Avaliação 5 de 5|https://produto.m...|\n",
      "|        Durabilidade|   Avaliação 5 de 5|https://produto.m...|\n",
      "|     Custo-benefício| Avaliação 4.2 de 5|https://www.merca...|\n",
      "|        Durabilidade| Avaliação 4.7 de 5|https://www.merca...|\n",
      "|         Resistência| Avaliação 4.7 de 5|https://www.merca...|\n",
      "|            Absorção| Avaliação 3.5 de 5|https://click1.me...|\n",
      "|     Custo-benefício| Avaliação 3.9 de 5|https://click1.me...|\n",
      "|Qualidade dos mat...| Avaliação 3.4 de 5|https://click1.me...|\n",
      "+--------------------+-------------------+--------------------+\n",
      "only showing top 20 rows\n",
      "\n"
     ]
    }
   ],
   "source": [
    "df3 = spark.read.csv(\"dados\\df3.csv\", sep=\";\", header=True)\n",
    "df3.show()"
   ]
  },
  {
   "cell_type": "code",
   "execution_count": 17,
   "metadata": {
    "id": "a6pnGzqpA8ec"
   },
   "outputs": [],
   "source": [
    "df_indice_urls_3 = df.select(\"URL\")"
   ]
  },
  {
   "cell_type": "code",
   "execution_count": 18,
   "metadata": {
    "colab": {
     "base_uri": "https://localhost:8080/"
    },
    "id": "AoxWxo2hBCi5",
    "outputId": "d1b6f2e5-667c-4b71-ad05-da546d23f636"
   },
   "outputs": [
    {
     "data": {
      "text/plain": [
       "2280"
      ]
     },
     "execution_count": 18,
     "metadata": {},
     "output_type": "execute_result"
    }
   ],
   "source": [
    "df_indice_urls_3.count()"
   ]
  },
  {
   "cell_type": "code",
   "execution_count": 19,
   "metadata": {
    "colab": {
     "base_uri": "https://localhost:8080/"
    },
    "id": "etvI3N7NBI9J",
    "outputId": "d0fc6c02-9995-4c3c-8f04-72605d2e5b47"
   },
   "outputs": [
    {
     "name": "stdout",
     "output_type": "stream",
     "text": [
      "+-------------------+\n",
      "|count(DISTINCT URL)|\n",
      "+-------------------+\n",
      "|               2261|\n",
      "+-------------------+\n",
      "\n"
     ]
    }
   ],
   "source": [
    "df_indice_urls_3.select(countDistinct(col(\"URL\"))).show()"
   ]
  },
  {
   "cell_type": "code",
   "execution_count": 20,
   "metadata": {
    "colab": {
     "base_uri": "https://localhost:8080/"
    },
    "id": "Lb85tJQyWKHo",
    "outputId": "e2e969dd-4364-4cad-ba29-87616371de97"
   },
   "outputs": [
    {
     "data": {
      "text/plain": [
       "2261"
      ]
     },
     "execution_count": 20,
     "metadata": {},
     "output_type": "execute_result"
    }
   ],
   "source": [
    "urls_3 = df_indice_urls_3.select(\"URL\").distinct()\n",
    "urls_3.count()"
   ]
  },
  {
   "cell_type": "code",
   "execution_count": 21,
   "metadata": {
    "colab": {
     "base_uri": "https://localhost:8080/"
    },
    "id": "RzffIWuQBQIO",
    "outputId": "448f664c-7bbd-4b5e-962e-8e56682ec34e"
   },
   "outputs": [
    {
     "name": "stdout",
     "output_type": "stream",
     "text": [
      "+--------------------------------------------+\n",
      "|count(CASE WHEN (URL IS NULL) THEN true END)|\n",
      "+--------------------------------------------+\n",
      "|                                           0|\n",
      "+--------------------------------------------+\n",
      "\n"
     ]
    }
   ],
   "source": [
    "df_indice_urls_3.select(count(when(col(\"URL\").isNull(), True))).show()"
   ]
  },
  {
   "cell_type": "code",
   "execution_count": 22,
   "metadata": {
    "colab": {
     "base_uri": "https://localhost:8080/"
    },
    "id": "POehk1jnBcBW",
    "outputId": "da05dcc8-eb15-4401-8526-e65130ac9567"
   },
   "outputs": [
    {
     "data": {
      "text/plain": [
       "2261"
      ]
     },
     "execution_count": 22,
     "metadata": {},
     "output_type": "execute_result"
    }
   ],
   "source": [
    "lista_indice_urls_1 = urls_1.select(\"URL\").collect()\n",
    "lista1 = [row[\"URL\"] for row in lista_indice_urls_1]\n",
    "len(lista1)"
   ]
  },
  {
   "cell_type": "code",
   "execution_count": 23,
   "metadata": {
    "colab": {
     "base_uri": "https://localhost:8080/"
    },
    "id": "E_hkoqS-WWba",
    "outputId": "57e0d924-791d-41f3-a4dc-fa0ab80e509f"
   },
   "outputs": [
    {
     "data": {
      "text/plain": [
       "2261"
      ]
     },
     "execution_count": 23,
     "metadata": {},
     "output_type": "execute_result"
    }
   ],
   "source": [
    "lista_indice_urls_2 = urls_2.select(\"URL\").collect()\n",
    "lista2 = [row[\"URL\"] for row in lista_indice_urls_2]\n",
    "len(lista2)"
   ]
  },
  {
   "cell_type": "code",
   "execution_count": 24,
   "metadata": {
    "colab": {
     "base_uri": "https://localhost:8080/"
    },
    "id": "SD2GDtj1Wjw7",
    "outputId": "7ddffe08-1d6e-45d7-c4ed-030c7f96c90c"
   },
   "outputs": [
    {
     "data": {
      "text/plain": [
       "2261"
      ]
     },
     "execution_count": 24,
     "metadata": {},
     "output_type": "execute_result"
    }
   ],
   "source": [
    "lista_indice_urls_3 = urls_3.select(\"URL\").collect()\n",
    "lista3 = [row[\"URL\"] for row in lista_indice_urls_3]\n",
    "len(lista3)"
   ]
  },
  {
   "cell_type": "code",
   "execution_count": 25,
   "metadata": {
    "colab": {
     "base_uri": "https://localhost:8080/"
    },
    "id": "Upb03m3lTDoW",
    "outputId": "eaeafde6-3483-4ad3-a84e-2d9d6abef4cb"
   },
   "outputs": [
    {
     "data": {
      "text/plain": [
       "0"
      ]
     },
     "execution_count": 25,
     "metadata": {},
     "output_type": "execute_result"
    }
   ],
   "source": [
    "urls = []\n",
    "for i in lista1:\n",
    "  if i not in lista2:\n",
    "    urls.append(i)\n",
    "len(urls)"
   ]
  },
  {
   "cell_type": "code",
   "execution_count": 26,
   "metadata": {
    "colab": {
     "base_uri": "https://localhost:8080/"
    },
    "id": "NvA3qOluVWIQ",
    "outputId": "58cbc735-2ae6-44e9-b90a-ff27aa149fc7"
   },
   "outputs": [
    {
     "data": {
      "text/plain": [
       "0"
      ]
     },
     "execution_count": 26,
     "metadata": {},
     "output_type": "execute_result"
    }
   ],
   "source": [
    "urls = []\n",
    "for i in lista1:\n",
    "  if i not in lista3:\n",
    "    urls.append(i)\n",
    "len(urls)"
   ]
  },
  {
   "cell_type": "code",
   "execution_count": 27,
   "metadata": {
    "id": "gvvqoJW4W0LT"
   },
   "outputs": [],
   "source": [
    "id_url = urls_1.withColumn(\"ID\", monotonically_increasing_id())\n",
    "id_url.write.csv(\"dados\\IDs_URLs.csv\", sep = \";\", header = True)"
   ]
  }
 ],
 "metadata": {
  "colab": {
   "provenance": []
  },
  "kernelspec": {
   "display_name": "Python 3 (ipykernel)",
   "language": "python",
   "name": "python3"
  },
  "language_info": {
   "codemirror_mode": {
    "name": "ipython",
    "version": 3
   },
   "file_extension": ".py",
   "mimetype": "text/x-python",
   "name": "python",
   "nbconvert_exporter": "python",
   "pygments_lexer": "ipython3",
   "version": "3.9.12"
  }
 },
 "nbformat": 4,
 "nbformat_minor": 1
}
