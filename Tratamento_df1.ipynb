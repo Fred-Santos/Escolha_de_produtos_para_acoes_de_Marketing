{
 "cells": [
  {
   "cell_type": "markdown",
   "id": "72d08822",
   "metadata": {},
   "source": [
    "# Tratamento do dataset df1"
   ]
  },
  {
   "cell_type": "markdown",
   "id": "7dc2bc5e",
   "metadata": {},
   "source": [
    "### Processo de carregamento dos dados"
   ]
  },
  {
   "cell_type": "code",
   "execution_count": 1,
   "id": "f61263c3",
   "metadata": {},
   "outputs": [
    {
     "name": "stdout",
     "output_type": "stream",
     "text": [
      "Requirement already satisfied: pyspark in c:\\users\\fred\\anaconda3\\lib\\site-packages (3.5.3)\n",
      "Requirement already satisfied: py4j==0.10.9.7 in c:\\users\\fred\\anaconda3\\lib\\site-packages (from pyspark) (0.10.9.7)\n"
     ]
    }
   ],
   "source": [
    "# Instalação das bibliotecas\n",
    "!pip install pyspark"
   ]
  },
  {
   "cell_type": "code",
   "execution_count": 2,
   "id": "4a953a02",
   "metadata": {},
   "outputs": [],
   "source": [
    "# Importações\n",
    "from pyspark.sql import SparkSession\n",
    "from pyspark.sql.functions import regexp_replace, regexp_extract, col, count, sum, when, countDistinct\n",
    "from pyspark.sql.types import IntegerType, FloatType\n",
    "from functools import reduce"
   ]
  },
  {
   "cell_type": "code",
   "execution_count": 3,
   "id": "532ab089",
   "metadata": {},
   "outputs": [],
   "source": [
    "# Criação do ambiente Spark\n",
    "spark = SparkSession.builder \\\n",
    ".appName('Prata1') \\\n",
    ".getOrCreate()"
   ]
  },
  {
   "cell_type": "code",
   "execution_count": 4,
   "id": "e65663ba",
   "metadata": {},
   "outputs": [
    {
     "name": "stdout",
     "output_type": "stream",
     "text": [
      "+--------------------+--------------------+--------------------+------+---------+-----------------+------------------+--------------------+\n",
      "|           Categoria|             Produto|               Marca| Preco|Avaliacao|Quant. Avaliacoes|Quant. Comentários|                 URL|\n",
      "+--------------------+--------------------+--------------------+------+---------+-----------------+------------------+--------------------+\n",
      "|Tapete Higienico ...|Tapete Higiênico ...|               Petix| 74.49|      4.8|           2210.0|   373 comentários|https://www.merca...|\n",
      "|   Racao Golden 15kg|Golden formula pr...|              Golden|191.28|      4.8|            600.0|   106 comentários|https://www.merca...|\n",
      "|              Keldog|Bifinho para Cães...|              Keldog|  25.7|      4.9|            643.0|    96 comentários|https://www.merca...|\n",
      "|Shampoo Cloresten...|1 Cloresten Shamp...|  Agener União Noxxi| 209.9|      4.9|            184.0|    46 comentários|https://www.merca...|\n",
      "|               Camas|Cama Pet Cachorro...|                 TOH|377.37|      5.0|             16.0|     2 comentários|https://produto.m...|\n",
      "|               Ossos|Brinquedo Para Ca...|            Benebone| 104.5|      4.6|             86.0|    20 comentários|https://www.merca...|\n",
      "|Shampoo e Condici...|Kit Shampoo Clore...|              Agener| 199.9|      4.9|            250.0|    58 comentários|https://click1.me...|\n",
      "|    Tapete Higienico|Tapetes Higiênico...|                NULL| 47.39|      3.9|              9.0|     3 comentários|https://click1.me...|\n",
      "| Biscoitos para Cães|Combo 4 Lata Pedi...|Ração úmida para ...| 49.42|      5.0|              2.0|              NULL|https://click1.me...|\n",
      "| Biscoitos para Cães|Petisco Bilisko B...|             Bilisko| 37.99|      4.8|            303.0|    54 comentários|https://www.merca...|\n",
      "|Shampoo e Condici...|Shampoo Hidratant...|            Allermyl|215.12|      4.9|             83.0|    18 comentários|https://produto.m...|\n",
      "|               Camas|Kit Cama Caminha ...|              Mundog|  78.9|      4.6|           2774.0|   851 comentários|https://produto.m...|\n",
      "|               Ossos|Brinquedo Mordedo...|Osso Bio Bone Mai...| 65.27|      4.5|            107.0|    32 comentários|https://produto.m...|\n",
      "|Tapete Higienico ...|Econopad Carvão B...|            Econopad|  66.8|      4.6|           1921.0|   540 comentários|https://www.merca...|\n",
      "|     Ração para Cães|Ração Alimento Pl...|               Pleno| 76.27|      4.7|            205.0|    51 comentários|https://www.merca...|\n",
      "|               Camas|Kit Cama Caminha ...|              Mundog|  68.0|      4.6|            455.0|   141 comentários|https://click1.me...|\n",
      "|Shampoo e Condici...|Sebotrat O 200ml ...|Agener Banho Pelagem| 105.9|      4.8|            113.0|    27 comentários|https://click1.me...|\n",
      "|    Tapete Higienico|Tapete Higiênico ...|       GRUPO DIAMOND|252.45|      4.4|             19.0|     7 comentários|https://click1.me...|\n",
      "|  Pedigree Dentastix|Petisco para Cães...|            Pedigree|  23.9|      4.9|            401.0|    59 comentários|https://www.merca...|\n",
      "|Shampoo e Condici...|Kit Shampoo Clore...|Agener União Hidr...|143.35|      4.9|            216.0|    47 comentários|https://produto.m...|\n",
      "+--------------------+--------------------+--------------------+------+---------+-----------------+------------------+--------------------+\n",
      "only showing top 20 rows\n",
      "\n"
     ]
    }
   ],
   "source": [
    "# Carregamento do dataset inicial (df1)\n",
    "df = spark.read.csv(r\"C:\\Users\\fred\\Documents\\CursoFullStack\\Projeto\\Web Scraping\\Dados\\df1.csv\", sep = \";\", header = True)\n",
    "df.show()"
   ]
  },
  {
   "cell_type": "markdown",
   "id": "9b44ba2a",
   "metadata": {},
   "source": [
    "### Padronização de variáveis e valores"
   ]
  },
  {
   "cell_type": "code",
   "execution_count": 5,
   "id": "fecbaae5",
   "metadata": {},
   "outputs": [
    {
     "name": "stdout",
     "output_type": "stream",
     "text": [
      "+--------------------+--------------------+--------------------+------+---------+----------------+-----------------+--------------------+\n",
      "|           Categoria|             Produto|               Marca| Preco|Avaliacao|Quant_Avaliacoes|Quant_Comentarios|                 URL|\n",
      "+--------------------+--------------------+--------------------+------+---------+----------------+-----------------+--------------------+\n",
      "|Tapete Higienico ...|Tapete Higiênico ...|               Petix| 74.49|      4.8|          2210.0|  373 comentários|https://www.merca...|\n",
      "|   Racao Golden 15kg|Golden formula pr...|              Golden|191.28|      4.8|           600.0|  106 comentários|https://www.merca...|\n",
      "|              Keldog|Bifinho para Cães...|              Keldog|  25.7|      4.9|           643.0|   96 comentários|https://www.merca...|\n",
      "|Shampoo Cloresten...|1 Cloresten Shamp...|  Agener União Noxxi| 209.9|      4.9|           184.0|   46 comentários|https://www.merca...|\n",
      "|               Camas|Cama Pet Cachorro...|                 TOH|377.37|      5.0|            16.0|    2 comentários|https://produto.m...|\n",
      "|               Ossos|Brinquedo Para Ca...|            Benebone| 104.5|      4.6|            86.0|   20 comentários|https://www.merca...|\n",
      "|Shampoo e Condici...|Kit Shampoo Clore...|              Agener| 199.9|      4.9|           250.0|   58 comentários|https://click1.me...|\n",
      "|    Tapete Higienico|Tapetes Higiênico...|                NULL| 47.39|      3.9|             9.0|    3 comentários|https://click1.me...|\n",
      "| Biscoitos para Cães|Combo 4 Lata Pedi...|Ração úmida para ...| 49.42|      5.0|             2.0|             NULL|https://click1.me...|\n",
      "| Biscoitos para Cães|Petisco Bilisko B...|             Bilisko| 37.99|      4.8|           303.0|   54 comentários|https://www.merca...|\n",
      "|Shampoo e Condici...|Shampoo Hidratant...|            Allermyl|215.12|      4.9|            83.0|   18 comentários|https://produto.m...|\n",
      "|               Camas|Kit Cama Caminha ...|              Mundog|  78.9|      4.6|          2774.0|  851 comentários|https://produto.m...|\n",
      "|               Ossos|Brinquedo Mordedo...|Osso Bio Bone Mai...| 65.27|      4.5|           107.0|   32 comentários|https://produto.m...|\n",
      "|Tapete Higienico ...|Econopad Carvão B...|            Econopad|  66.8|      4.6|          1921.0|  540 comentários|https://www.merca...|\n",
      "|     Ração para Cães|Ração Alimento Pl...|               Pleno| 76.27|      4.7|           205.0|   51 comentários|https://www.merca...|\n",
      "|               Camas|Kit Cama Caminha ...|              Mundog|  68.0|      4.6|           455.0|  141 comentários|https://click1.me...|\n",
      "|Shampoo e Condici...|Sebotrat O 200ml ...|Agener Banho Pelagem| 105.9|      4.8|           113.0|   27 comentários|https://click1.me...|\n",
      "|    Tapete Higienico|Tapete Higiênico ...|       GRUPO DIAMOND|252.45|      4.4|            19.0|    7 comentários|https://click1.me...|\n",
      "|  Pedigree Dentastix|Petisco para Cães...|            Pedigree|  23.9|      4.9|           401.0|   59 comentários|https://www.merca...|\n",
      "|Shampoo e Condici...|Kit Shampoo Clore...|Agener União Hidr...|143.35|      4.9|           216.0|   47 comentários|https://produto.m...|\n",
      "+--------------------+--------------------+--------------------+------+---------+----------------+-----------------+--------------------+\n",
      "only showing top 20 rows\n",
      "\n"
     ]
    }
   ],
   "source": [
    "# Renomeação de colunas\n",
    "df_coluna_ren = df.withColumnRenamed(\"Quant. Avaliacoes\", \"Quant_Avaliacoes\").withColumnRenamed(\"Quant. Comentários\", \"Quant_Comentarios\")\n",
    "df_coluna_ren.show()"
   ]
  },
  {
   "cell_type": "code",
   "execution_count": 6,
   "id": "345161e1",
   "metadata": {},
   "outputs": [],
   "source": [
    "# Retirada das vírgulas que marcavam milhar nos campos da coluna \"Quant_Comentarios\"\n",
    "df_Quan_comen_tratado = df_coluna_ren.withColumn(\"Quant_Comentarios\", regexp_replace(\"Quant_Comentarios\", \",\",\"\"))"
   ]
  },
  {
   "cell_type": "code",
   "execution_count": 7,
   "id": "49d9c675",
   "metadata": {},
   "outputs": [
    {
     "name": "stdout",
     "output_type": "stream",
     "text": [
      "+--------------------+--------------------+--------------------+------+---------+----------------+-----------------+--------------------+\n",
      "|           Categoria|             Produto|               Marca| Preco|Avaliacao|Quant_Avaliacoes|Quant_Comentarios|                 URL|\n",
      "+--------------------+--------------------+--------------------+------+---------+----------------+-----------------+--------------------+\n",
      "|Tapete Higienico ...|Tapete Higiênico ...|               Petix| 74.49|      4.8|          2210.0|              373|https://www.merca...|\n",
      "|   Racao Golden 15kg|Golden formula pr...|              Golden|191.28|      4.8|           600.0|              106|https://www.merca...|\n",
      "|              Keldog|Bifinho para Cães...|              Keldog|  25.7|      4.9|           643.0|               96|https://www.merca...|\n",
      "|Shampoo Cloresten...|1 Cloresten Shamp...|  Agener União Noxxi| 209.9|      4.9|           184.0|               46|https://www.merca...|\n",
      "|               Camas|Cama Pet Cachorro...|                 TOH|377.37|      5.0|            16.0|                2|https://produto.m...|\n",
      "|               Ossos|Brinquedo Para Ca...|            Benebone| 104.5|      4.6|            86.0|               20|https://www.merca...|\n",
      "|Shampoo e Condici...|Kit Shampoo Clore...|              Agener| 199.9|      4.9|           250.0|               58|https://click1.me...|\n",
      "|    Tapete Higienico|Tapetes Higiênico...|                NULL| 47.39|      3.9|             9.0|                3|https://click1.me...|\n",
      "| Biscoitos para Cães|Combo 4 Lata Pedi...|Ração úmida para ...| 49.42|      5.0|             2.0|             NULL|https://click1.me...|\n",
      "| Biscoitos para Cães|Petisco Bilisko B...|             Bilisko| 37.99|      4.8|           303.0|               54|https://www.merca...|\n",
      "|Shampoo e Condici...|Shampoo Hidratant...|            Allermyl|215.12|      4.9|            83.0|               18|https://produto.m...|\n",
      "|               Camas|Kit Cama Caminha ...|              Mundog|  78.9|      4.6|          2774.0|              851|https://produto.m...|\n",
      "|               Ossos|Brinquedo Mordedo...|Osso Bio Bone Mai...| 65.27|      4.5|           107.0|               32|https://produto.m...|\n",
      "|Tapete Higienico ...|Econopad Carvão B...|            Econopad|  66.8|      4.6|          1921.0|              540|https://www.merca...|\n",
      "|     Ração para Cães|Ração Alimento Pl...|               Pleno| 76.27|      4.7|           205.0|               51|https://www.merca...|\n",
      "|               Camas|Kit Cama Caminha ...|              Mundog|  68.0|      4.6|           455.0|              141|https://click1.me...|\n",
      "|Shampoo e Condici...|Sebotrat O 200ml ...|Agener Banho Pelagem| 105.9|      4.8|           113.0|               27|https://click1.me...|\n",
      "|    Tapete Higienico|Tapete Higiênico ...|       GRUPO DIAMOND|252.45|      4.4|            19.0|                7|https://click1.me...|\n",
      "|  Pedigree Dentastix|Petisco para Cães...|            Pedigree|  23.9|      4.9|           401.0|               59|https://www.merca...|\n",
      "|Shampoo e Condici...|Kit Shampoo Clore...|Agener União Hidr...|143.35|      4.9|           216.0|               47|https://produto.m...|\n",
      "+--------------------+--------------------+--------------------+------+---------+----------------+-----------------+--------------------+\n",
      "only showing top 20 rows\n",
      "\n"
     ]
    }
   ],
   "source": [
    "# Retirada de caracteres não numéricos da coluna \"Quant_Comentarios\"\n",
    "df_Quan_comen_tratado = df_coluna_ren.withColumn(\"Quant_Comentarios\", regexp_extract(\"Quant_Comentarios\", r\"(\\d+)\",1))\n",
    "df_Quan_comen_tratado.show()"
   ]
  },
  {
   "cell_type": "code",
   "execution_count": 8,
   "id": "f6b98688",
   "metadata": {},
   "outputs": [
    {
     "name": "stdout",
     "output_type": "stream",
     "text": [
      "root\n",
      " |-- Categoria: string (nullable = true)\n",
      " |-- Produto: string (nullable = true)\n",
      " |-- Marca: string (nullable = true)\n",
      " |-- Preco: string (nullable = true)\n",
      " |-- Avaliacao: string (nullable = true)\n",
      " |-- Quant_Avaliacoes: string (nullable = true)\n",
      " |-- Quant_Comentarios: string (nullable = true)\n",
      " |-- URL: string (nullable = true)\n",
      "\n"
     ]
    }
   ],
   "source": [
    "# Avaliação do tipo de dados por coluna\n",
    "df_Quan_comen_tratado.printSchema()"
   ]
  },
  {
   "cell_type": "code",
   "execution_count": 9,
   "id": "011716d9",
   "metadata": {},
   "outputs": [],
   "source": [
    "# Alteração do tipo de dados das colunas com valores numéricos\n",
    "df_tipos_dados = df_Quan_comen_tratado \\\n",
    "    .withColumn(\"Preco\", df_Quan_comen_tratado[\"Preco\"].cast(FloatType())) \\\n",
    "    .withColumn(\"Quant_Avaliacoes\", df_Quan_comen_tratado[\"Quant_Avaliacoes\"].cast(IntegerType())) \\\n",
    "    .withColumn(\"Avaliacao\", df_Quan_comen_tratado[\"Avaliacao\"].cast(FloatType())) \\\n",
    "    .withColumn(\"Quant_Comentarios\", df_Quan_comen_tratado[\"Quant_Comentarios\"].cast(IntegerType()))\n"
   ]
  },
  {
   "cell_type": "code",
   "execution_count": 10,
   "id": "d0d15d81",
   "metadata": {},
   "outputs": [
    {
     "name": "stdout",
     "output_type": "stream",
     "text": [
      "root\n",
      " |-- Categoria: string (nullable = true)\n",
      " |-- Produto: string (nullable = true)\n",
      " |-- Marca: string (nullable = true)\n",
      " |-- Preco: float (nullable = true)\n",
      " |-- Avaliacao: float (nullable = true)\n",
      " |-- Quant_Avaliacoes: integer (nullable = true)\n",
      " |-- Quant_Comentarios: integer (nullable = true)\n",
      " |-- URL: string (nullable = true)\n",
      "\n"
     ]
    }
   ],
   "source": [
    "# Resultado das alterações do tipo de dados por Coluna\n",
    "df_tipos_dados.printSchema()"
   ]
  },
  {
   "cell_type": "markdown",
   "id": "88ec2dd4",
   "metadata": {},
   "source": [
    "### Tratamento de campos nulos"
   ]
  },
  {
   "cell_type": "code",
   "execution_count": 11,
   "id": "748e8c1b",
   "metadata": {},
   "outputs": [
    {
     "name": "stdout",
     "output_type": "stream",
     "text": [
      "+--------------------+--------------------+--------------------+------+---------+----------------+-----------------+--------------------+\n",
      "|           Categoria|             Produto|               Marca| Preco|Avaliacao|Quant_Avaliacoes|Quant_Comentarios|                 URL|\n",
      "+--------------------+--------------------+--------------------+------+---------+----------------+-----------------+--------------------+\n",
      "|    Tapete Higienico|Tapetes Higiênico...|                NULL| 47.39|      3.9|               9|                3|https://click1.me...|\n",
      "| Biscoitos para Cães|Combo 4 Lata Pedi...|Ração úmida para ...| 49.42|      5.0|               2|             NULL|https://click1.me...|\n",
      "|               Camas|Caminha Pet Suspe...|            Animalli|199.89|     NULL|            NULL|             NULL|https://produto.m...|\n",
      "|    Tapete Higienico|3 Tapetes Higiêni...|               Petix| 298.9|      5.0|               3|             NULL|https://produto.m...|\n",
      "|            Frisbees|Brinquedo Frisbee...|              Petlon| 74.95|     NULL|            NULL|             NULL|https://www.merca...|\n",
      "|              Rações|Alimento Guabi Na...|             Natural|  NULL|      4.8|             376|               64|https://www.merca...|\n",
      "|Shampoo e Condici...|Shampoo The Luxe ...|           Atual Pet|170.24|      5.0|               1|             NULL|https://click1.me...|\n",
      "|               Ossos|Brinquedo Cachorr...|        Big Bull Pet| 71.01|      5.0|               3|             NULL|https://click1.me...|\n",
      "|Shampoo e Condici...|Shampoo The Luxe ...|           Atual Pet|170.24|      5.0|               1|             NULL|https://click1.me...|\n",
      "|               Ossos|Brinquedo Cachorr...|        Big Bull Pet| 71.01|      5.0|               3|             NULL|https://click1.me...|\n",
      "|               Ossos|Brinquedo Mordedo...|             Art Pet|  11.9|      4.0|               4|             NULL|https://produto.m...|\n",
      "| Biscoitos para Cães|Petisco Para Cach...|            Grandogs|  53.9|      5.0|               2|             NULL|https://www.merca...|\n",
      "|               Camas|Cama Pet Com Cabe...|Cama Pet Expressa...|341.05|     NULL|            NULL|             NULL|https://produto.m...|\n",
      "| Biscoitos para Cães|Petisco Snack Jac...|          Jack E Pup|  13.0|      4.5|               2|             NULL|https://www.merca...|\n",
      "| Biscoitos para Cães|Petisco Para Cães...|                NULL| 32.97|      4.8|             100|               18|https://www.merca...|\n",
      "|Shampoo e Condici...|Condicionador Bas...|             Bubbles|198.34|     NULL|            NULL|             NULL|https://click1.me...|\n",
      "| Biscoitos para Cães|Petisco Para Cães...|                NULL| 31.97|      4.9|             105|               26|https://www.merca...|\n",
      "|    Tapete Higienico|Tapete Higienico ...|             Petlike| 51.92|      5.0|               1|             NULL|https://produto.m...|\n",
      "|Shampoo e Condici...|Shampoo The Luxe ...|           Atual Pet|170.24|      5.0|               1|             NULL|https://click1.me...|\n",
      "|Shampoo e Condici...|Condicionador Bas...|             Bubbles|198.34|     NULL|            NULL|             NULL|https://click1.me...|\n",
      "+--------------------+--------------------+--------------------+------+---------+----------------+-----------------+--------------------+\n",
      "only showing top 20 rows\n",
      "\n"
     ]
    }
   ],
   "source": [
    "# Rastreamento dos campos nulos\n",
    "df_tipos_dados.filter(reduce(lambda x, y: x | y, [col(c).isNull() for c in df_tipos_dados.columns])).show()"
   ]
  },
  {
   "cell_type": "code",
   "execution_count": 12,
   "id": "b04ea99f",
   "metadata": {},
   "outputs": [
    {
     "name": "stdout",
     "output_type": "stream",
     "text": [
      "+---------+-------+-----+-----+---------+----------------+-----------------+----+\n",
      "|Categoria|Produto|Marca|Preco|Avaliacao|Quant_Avaliacoes|Quant_Comentarios| URL|\n",
      "+---------+-------+-----+-----+---------+----------------+-----------------+----+\n",
      "|     2280|   2280| 2270| 2266|     1954|            1954|             1624|2280|\n",
      "+---------+-------+-----+-----+---------+----------------+-----------------+----+\n",
      "\n"
     ]
    }
   ],
   "source": [
    "# Totais não nulos por coluna\n",
    "totais = df_tipos_dados.select([count(col(c)).alias(c) for c in df_tipos_dados.columns])\n",
    "totais.show()"
   ]
  },
  {
   "cell_type": "code",
   "execution_count": 13,
   "id": "a147d39c",
   "metadata": {},
   "outputs": [
    {
     "name": "stdout",
     "output_type": "stream",
     "text": [
      "+---------+-------+-----+-----+---------+----------------+-----------------+---+\n",
      "|Categoria|Produto|Marca|Preco|Avaliacao|Quant_Avaliacoes|Quant_Comentarios|URL|\n",
      "+---------+-------+-----+-----+---------+----------------+-----------------+---+\n",
      "|        0|      0|   10|   14|      326|             326|              656|  0|\n",
      "+---------+-------+-----+-----+---------+----------------+-----------------+---+\n",
      "\n"
     ]
    }
   ],
   "source": [
    "#Contagem de nulos por coluna\n",
    "nulos_por_coluna = df_tipos_dados.select([sum(col(c).isNull().cast(\"int\")).alias(c) for c in df_tipos_dados.columns])\n",
    "nulos_por_coluna.show()"
   ]
  },
  {
   "cell_type": "code",
   "execution_count": 14,
   "id": "89bbfe22",
   "metadata": {},
   "outputs": [
    {
     "name": "stdout",
     "output_type": "stream",
     "text": [
      "+--------------------+--------------------+--------------------+------+---------+----------------+-----------------+--------------------+\n",
      "|           Categoria|             Produto|               Marca| Preco|Avaliacao|Quant_Avaliacoes|Quant_Comentarios|                 URL|\n",
      "+--------------------+--------------------+--------------------+------+---------+----------------+-----------------+--------------------+\n",
      "|Tapete Higienico ...|Tapete Higiênico ...|               Petix| 74.49|      4.8|            2210|              373|https://www.merca...|\n",
      "|   Racao Golden 15kg|Golden formula pr...|              Golden|191.28|      4.8|             600|              106|https://www.merca...|\n",
      "|              Keldog|Bifinho para Cães...|              Keldog|  25.7|      4.9|             643|               96|https://www.merca...|\n",
      "|Shampoo Cloresten...|1 Cloresten Shamp...|  Agener União Noxxi| 209.9|      4.9|             184|               46|https://www.merca...|\n",
      "|               Camas|Cama Pet Cachorro...|                 TOH|377.37|      5.0|              16|                2|https://produto.m...|\n",
      "|               Ossos|Brinquedo Para Ca...|            Benebone| 104.5|      4.6|              86|               20|https://www.merca...|\n",
      "|Shampoo e Condici...|Kit Shampoo Clore...|              Agener| 199.9|      4.9|             250|               58|https://click1.me...|\n",
      "|    Tapete Higienico|Tapetes Higiênico...|                NULL| 47.39|      3.9|               9|                3|https://click1.me...|\n",
      "| Biscoitos para Cães|Combo 4 Lata Pedi...|Ração úmida para ...| 49.42|      5.0|               2|                0|https://click1.me...|\n",
      "| Biscoitos para Cães|Petisco Bilisko B...|             Bilisko| 37.99|      4.8|             303|               54|https://www.merca...|\n",
      "|Shampoo e Condici...|Shampoo Hidratant...|            Allermyl|215.12|      4.9|              83|               18|https://produto.m...|\n",
      "|               Camas|Kit Cama Caminha ...|              Mundog|  78.9|      4.6|            2774|              851|https://produto.m...|\n",
      "|               Ossos|Brinquedo Mordedo...|Osso Bio Bone Mai...| 65.27|      4.5|             107|               32|https://produto.m...|\n",
      "|Tapete Higienico ...|Econopad Carvão B...|            Econopad|  66.8|      4.6|            1921|              540|https://www.merca...|\n",
      "|     Ração para Cães|Ração Alimento Pl...|               Pleno| 76.27|      4.7|             205|               51|https://www.merca...|\n",
      "|               Camas|Kit Cama Caminha ...|              Mundog|  68.0|      4.6|             455|              141|https://click1.me...|\n",
      "|Shampoo e Condici...|Sebotrat O 200ml ...|Agener Banho Pelagem| 105.9|      4.8|             113|               27|https://click1.me...|\n",
      "|    Tapete Higienico|Tapete Higiênico ...|       GRUPO DIAMOND|252.45|      4.4|              19|                7|https://click1.me...|\n",
      "|  Pedigree Dentastix|Petisco para Cães...|            Pedigree|  23.9|      4.9|             401|               59|https://www.merca...|\n",
      "|Shampoo e Condici...|Kit Shampoo Clore...|Agener União Hidr...|143.35|      4.9|             216|               47|https://produto.m...|\n",
      "+--------------------+--------------------+--------------------+------+---------+----------------+-----------------+--------------------+\n",
      "only showing top 20 rows\n",
      "\n"
     ]
    }
   ],
   "source": [
    "#Alterando valores nulos das colunas \"Quant_Avaliacoes\" e \"Quant_Comentarios\" para 0.\n",
    "tratamento_nulos = df_tipos_dados.withColumn(\"Quant_Avaliacoes\", when(col(\"Quant_Avaliacoes\").isNull(), 0).otherwise(col(\"Quant_Avaliacoes\"))). \\\n",
    "withColumn(\"Quant_Comentarios\", when(col(\"Quant_Comentarios\").isNull(), 0).otherwise(col(\"Quant_Comentarios\")))\n",
    "tratamento_nulos.show()"
   ]
  },
  {
   "cell_type": "code",
   "execution_count": 15,
   "id": "0f9fa8c4",
   "metadata": {},
   "outputs": [],
   "source": [
    "tratamento_nulos = tratamento_nulos.withColumn(\"Marca\", when(col(\"Marca\").isNull(), 'Nao Informado').otherwise(col(\"Marca\")))"
   ]
  },
  {
   "cell_type": "markdown",
   "id": "f3663ae4",
   "metadata": {},
   "source": [
    "### Retirando campos repetidos"
   ]
  },
  {
   "cell_type": "code",
   "execution_count": 16,
   "id": "005d43a7",
   "metadata": {},
   "outputs": [
    {
     "name": "stdout",
     "output_type": "stream",
     "text": [
      "+---------+-------+-----+-----+---------+----------------+-----------------+----+\n",
      "|Categoria|Produto|Marca|Preco|Avaliacao|Quant_Avaliacoes|Quant_Comentarios| URL|\n",
      "+---------+-------+-----+-----+---------+----------------+-----------------+----+\n",
      "|     2280|   2280| 2280| 2266|     1954|            2280|             2280|2280|\n",
      "+---------+-------+-----+-----+---------+----------------+-----------------+----+\n",
      "\n"
     ]
    }
   ],
   "source": [
    "#Totais por coluna\n",
    "tratamento_nulos.select([count(col(c)).alias(c) for c in tratamento_nulos.columns]).show()"
   ]
  },
  {
   "cell_type": "code",
   "execution_count": 17,
   "id": "8ef872cb",
   "metadata": {},
   "outputs": [],
   "source": [
    "#Retirando produtos repetidos\n",
    "sem_repeticoes = tratamento_nulos.dropDuplicates()"
   ]
  },
  {
   "cell_type": "code",
   "execution_count": 18,
   "id": "dda783d0",
   "metadata": {},
   "outputs": [
    {
     "name": "stdout",
     "output_type": "stream",
     "text": [
      "+---------+-------+-----+-----+---------+----------------+-----------------+----+\n",
      "|Categoria|Produto|Marca|Preco|Avaliacao|Quant_Avaliacoes|Quant_Comentarios| URL|\n",
      "+---------+-------+-----+-----+---------+----------------+-----------------+----+\n",
      "|     2261|   2261| 2261| 2247|     1942|            2261|             2261|2261|\n",
      "+---------+-------+-----+-----+---------+----------------+-----------------+----+\n",
      "\n"
     ]
    }
   ],
   "source": [
    "#Totais por coluna\n",
    "sem_repeticoes.select([count(col(c)).alias(c) for c in sem_repeticoes.columns]).show()"
   ]
  },
  {
   "cell_type": "markdown",
   "id": "98773638",
   "metadata": {},
   "source": [
    "### Tratamento da variável \"Categoria\""
   ]
  },
  {
   "cell_type": "code",
   "execution_count": 19,
   "id": "89708a0d",
   "metadata": {},
   "outputs": [
    {
     "data": {
      "text/plain": [
       "['Afasta Gato',\n",
       " 'Aminomix',\n",
       " 'Anti-Latido',\n",
       " 'Antipulgas Gatos',\n",
       " 'Bandejas Sanitárias',\n",
       " 'Banho A Seco Pet',\n",
       " 'Banho Pet',\n",
       " 'Bebedouros',\n",
       " 'Bebedouros  e Comedouros',\n",
       " 'Benebone',\n",
       " 'Biscoito Cachorro',\n",
       " 'Biscoitos para Cães',\n",
       " 'Biscrok Pedigree',\n",
       " 'Brinquedo Cachorro',\n",
       " 'Brinquedo Interativo Cachorro',\n",
       " 'Brinquedos Pet',\n",
       " 'Cabana Pet',\n",
       " 'Cachorro Forte',\n",
       " 'Calcinhas',\n",
       " 'Cama Cachorro',\n",
       " 'Cama Cachorro Grande',\n",
       " 'Cama Gato',\n",
       " 'Cama Iglu',\n",
       " 'Cama Nuvem',\n",
       " 'Cama Pet',\n",
       " 'Camas',\n",
       " 'Caminha',\n",
       " 'Casas',\n",
       " 'Casinha Cachorro',\n",
       " 'Casinha Gatos',\n",
       " 'Cetodine Shampoo',\n",
       " 'Cloresten',\n",
       " 'Colchao Pet',\n",
       " 'Comedouro',\n",
       " 'Comedouro Cachorro',\n",
       " 'Comedouro Gatos',\n",
       " 'Comedouro Interativo',\n",
       " 'Comedouros',\n",
       " 'Dermogen Shampoo',\n",
       " 'Doguitos',\n",
       " 'Dolce Pet',\n",
       " 'Episoothe Shampoo',\n",
       " 'Escada Pet',\n",
       " 'Frisbees',\n",
       " 'Glicopan Pet',\n",
       " 'Hexadene Shampoo',\n",
       " 'Hidrapet',\n",
       " 'Keldog',\n",
       " 'Kit Cachorro',\n",
       " 'Kit Pet',\n",
       " 'Matacura',\n",
       " 'Micodine Shampoo',\n",
       " 'Organew',\n",
       " 'Ossinho',\n",
       " 'Osso Cachorro',\n",
       " 'Ossos',\n",
       " 'Pedigree Dentastix',\n",
       " 'Perigot',\n",
       " 'Pet Clean',\n",
       " 'Pet Delicia',\n",
       " 'Pet Milk',\n",
       " 'Pet Smack',\n",
       " 'Petiscao',\n",
       " 'Petisco Cachorro',\n",
       " 'Plast Pet',\n",
       " 'Porta Gatos',\n",
       " 'Promun Dog',\n",
       " 'Racao Cachorro',\n",
       " 'Racao Formula Natural',\n",
       " 'Racao Gato Filhote',\n",
       " 'Racao Golden 15kg',\n",
       " 'Racao Golden Adulto',\n",
       " 'Racao Golden Filhote',\n",
       " 'Racao Golden Gatos',\n",
       " 'Racao Golden Racas Pequenas',\n",
       " 'Racao Golden Senior',\n",
       " 'Racao Guabi Natural',\n",
       " 'Racao Hipoalergenica Premier',\n",
       " 'Racao Natural',\n",
       " 'Racao Pedigree',\n",
       " 'Racao Premiatta',\n",
       " 'Racao Premier Ambientes Internos',\n",
       " 'Racao Premier Racas Pequenas',\n",
       " 'Racao Racas Pequenas',\n",
       " 'Racao Renal Caes',\n",
       " 'Racao Umida',\n",
       " 'Racao Urinary',\n",
       " 'Ração para Cães',\n",
       " 'Rações',\n",
       " 'Sabonete',\n",
       " 'Sache',\n",
       " 'Sebolytic',\n",
       " 'Sebotrat',\n",
       " 'Sebotrat S',\n",
       " 'Shampoo Antipulgas',\n",
       " 'Shampoo Cachorro',\n",
       " 'Shampoo Cloresten 500ml',\n",
       " 'Shampoo Clorexidina',\n",
       " 'Shampoo Pet',\n",
       " 'Shampoo Sanol',\n",
       " 'Shampoo e Condicionadores',\n",
       " 'Special Dog',\n",
       " 'Suplementos e Vitaminas',\n",
       " 'Tapete Gelado Pet',\n",
       " 'Tapete Higienico',\n",
       " 'Tapete Higienico 30 Unidades',\n",
       " 'Tapete Higienico Blue Premium',\n",
       " 'Tapete Higienico Chalesco',\n",
       " 'Tapete Higienico Gatos',\n",
       " 'Tapete Higienico Lavavel',\n",
       " 'Tapete Higienico Super Secao',\n",
       " 'Toca Gatos',\n",
       " 'Zee Dog']"
      ]
     },
     "execution_count": 19,
     "metadata": {},
     "output_type": "execute_result"
    }
   ],
   "source": [
    "#Lista de categorias\n",
    "categorias = sem_repeticoes.select(\"Categoria\").distinct().collect()\n",
    "lista =[row[\"Categoria\"] for row in categorias]\n",
    "lista_ordenada = sorted(lista)\n",
    "lista_ordenada"
   ]
  },
  {
   "cell_type": "code",
   "execution_count": 20,
   "id": "67c38436",
   "metadata": {},
   "outputs": [],
   "source": [
    "#Organização das categorias\n",
    "categoria_tratadas = sem_repeticoes.withColumn(\"Categoria\", when(col(\"Categoria\").contains(\"Shampoo\"), \"Shampoo e Condicionadores\").otherwise(col(\"Categoria\"))). \\\n",
    "withColumn(\"Categoria\", when(col(\"Categoria\").contains(\"Cloresten\"), \"Shampoo e Condicionadores\").otherwise(col(\"Categoria\"))). \\\n",
    "withColumn(\"Categoria\", when(col(\"Categoria\").contains(\"Sebolytic\"), \"Shampoo e Condicionadores\").otherwise(col(\"Categoria\"))). \\\n",
    "withColumn(\"Categoria\", when(col(\"Categoria\").contains(\"Sebotrat\"), \"Shampoo e Condicionadores\").otherwise(col(\"Categoria\"))). \\\n",
    "withColumn(\"Categoria\", when(col(\"Categoria\").contains(\"Cama\"), \"Camas\").otherwise(col(\"Categoria\"))). \\\n",
    "withColumn(\"Categoria\", when(col(\"Categoria\").contains(\"Caminha\"), \"Camas\").otherwise(col(\"Categoria\"))). \\\n",
    "withColumn(\"Categoria\", when(col(\"Categoria\").contains(\"Plast Pet\"), \"Camas\").otherwise(col(\"Categoria\"))). \\\n",
    "withColumn(\"Categoria\", when(col(\"Categoria\").contains(\"Cabana Pet\"), \"Camas\").otherwise(col(\"Categoria\"))). \\\n",
    "withColumn(\"Categoria\", when(col(\"Categoria\").contains(\"Osso\"), \"Ossos\").otherwise(col(\"Categoria\"))). \\\n",
    "withColumn(\"Categoria\", when(col(\"Categoria\").contains(\"Ossinho\"), \"Ossos\").otherwise(col(\"Categoria\"))). \\\n",
    "withColumn(\"Categoria\", when(col(\"Categoria\").contains(\"Brinquedo\"), \"Brinquedos\").otherwise(col(\"Categoria\"))). \\\n",
    "withColumn(\"Categoria\", when(col(\"Categoria\").contains(\"Benebone\"), \"Brinquedos\").otherwise(col(\"Categoria\"))). \\\n",
    "withColumn(\"Categoria\", when(col(\"Categoria\").contains(\"Cachorro Forte\"), \"Brinquedos\").otherwise(col(\"Categoria\"))). \\\n",
    "withColumn(\"Categoria\", when(col(\"Categoria\").contains(\"Kit\"), \"Kit\").otherwise(col(\"Categoria\"))). \\\n",
    "withColumn(\"Categoria\", when(col(\"Categoria\").contains(\"Tapete\"), \"Tapete\").otherwise(col(\"Categoria\"))). \\\n",
    "withColumn(\"Categoria\", when(col(\"Categoria\").contains(\"Zee Dog\"), \"Tapete\").otherwise(col(\"Categoria\"))). \\\n",
    "withColumn(\"Categoria\", when(col(\"Categoria\").contains(\"Racao\"), \"Racao\").otherwise(col(\"Categoria\"))). \\\n",
    "withColumn(\"Categoria\", when(col(\"Categoria\").contains(\"Rações\"), \"Racao\").otherwise(col(\"Categoria\"))). \\\n",
    "withColumn(\"Categoria\", when(col(\"Categoria\").contains(\"Ração\"), \"Racao\").otherwise(col(\"Categoria\"))). \\\n",
    "withColumn(\"Categoria\", when(col(\"Categoria\").contains(\"Special Dog\"), \"Racao\").otherwise(col(\"Categoria\"))). \\\n",
    "withColumn(\"Categoria\", when(col(\"Categoria\").contains(\"Comedouro\"), \"Comedouro\").otherwise(col(\"Categoria\"))). \\\n",
    "withColumn(\"Categoria\", when(col(\"Categoria\").contains(\"Biscoitos\"), \"Biscoitos\").otherwise(col(\"Categoria\"))). \\\n",
    "withColumn(\"Categoria\", when(col(\"Categoria\").contains(\"Biscoito\"), \"Biscoitos\").otherwise(col(\"Categoria\"))). \\\n",
    "withColumn(\"Categoria\", when(col(\"Categoria\").contains(\"Biscrok\"), \"Biscoitos\").otherwise(col(\"Categoria\"))). \\\n",
    "withColumn(\"Categoria\", when(col(\"Categoria\").contains(\"Antipulgas\"), \"Antipulgas\").otherwise(col(\"Categoria\"))). \\\n",
    "withColumn(\"Categoria\", when(col(\"Categoria\").contains(\"Petisco\"), \"Petisco\").otherwise(col(\"Categoria\"))). \\\n",
    "withColumn(\"Categoria\", when(col(\"Categoria\").contains(\"Petiscao\"), \"Petisco\").otherwise(col(\"Categoria\"))). \\\n",
    "withColumn(\"Categoria\", when(col(\"Categoria\").contains(\"Keldog\"), \"Petisco\").otherwise(col(\"Categoria\"))). \\\n",
    "withColumn(\"Categoria\", when(col(\"Categoria\").contains(\"Doguitos\"), \"Petisco\").otherwise(col(\"Categoria\"))). \\\n",
    "withColumn(\"Categoria\", when(col(\"Categoria\").contains(\"Pedigree Dentastix\"), \"Petisco\").otherwise(col(\"Categoria\"))). \\\n",
    "withColumn(\"Categoria\", when(col(\"Categoria\").contains(\"Porta Gatos\"), \"Petisco\").otherwise(col(\"Categoria\"))). \\\n",
    "withColumn(\"Categoria\", when(col(\"Categoria\").contains(\"Sebotrat\"), \"Sebotrat\").otherwise(col(\"Categoria\"))). \\\n",
    "withColumn(\"Categoria\", when(col(\"Categoria\").contains(\"Casinhas\"), \"Casinhas\").otherwise(col(\"Categoria\"))). \\\n",
    "withColumn(\"Categoria\", when(col(\"Categoria\").contains(\"Casas\"), \"Casinhas\").otherwise(col(\"Categoria\"))). \\\n",
    "withColumn(\"Categoria\", when(col(\"Categoria\").contains(\"Casinha\"), \"Casinhas\").otherwise(col(\"Categoria\"))). \\\n",
    "withColumn(\"Categoria\", when(col(\"Categoria\").contains(\"Toca Gatos\"), \"Casinhas\").otherwise(col(\"Categoria\"))). \\\n",
    "withColumn(\"Categoria\", when(col(\"Categoria\").contains(\"Afasta Gato\"), \"Repelente\").otherwise(col(\"Categoria\"))). \\\n",
    "withColumn(\"Categoria\", when(col(\"Categoria\").contains(\"Aminomix\"), \"Suplementos e Vitaminas\").otherwise(col(\"Categoria\"))). \\\n",
    "withColumn(\"Categoria\", when(col(\"Categoria\").contains(\"Glicopan Pet\"), \"Suplementos e Vitaminas\").otherwise(col(\"Categoria\"))). \\\n",
    "withColumn(\"Categoria\", when(col(\"Categoria\").contains(\"Pet Milk\"), \"Suplementos e Vitaminas\").otherwise(col(\"Categoria\"))). \\\n",
    "withColumn(\"Categoria\", when(col(\"Categoria\").contains(\"Organew\"), \"Suplementos e Vitaminas\").otherwise(col(\"Categoria\"))). \\\n",
    "withColumn(\"Categoria\", when(col(\"Categoria\").contains(\"Matacura\"), \"Suplementos e Vitaminas\").otherwise(col(\"Categoria\"))). \\\n",
    "withColumn(\"Categoria\", when(col(\"Categoria\").contains(\"Pet Delicia\"), \"Sache\").otherwise(col(\"Categoria\"))). \\\n",
    "withColumn(\"Categoria\", when(col(\"Categoria\").contains(\"Promun Dog\"), \"Sache\").otherwise(col(\"Categoria\"))). \\\n",
    "withColumn(\"Categoria\", when(col(\"Categoria\").contains(\"Perigot\"), \"Banho\").otherwise(col(\"Categoria\"))). \\\n",
    "withColumn(\"Categoria\", when(col(\"Categoria\").contains(\"Banho\"), \"Banho\").otherwise(col(\"Categoria\"))). \\\n",
    "withColumn(\"Categoria\", when(col(\"Categoria\").contains(\"Dolce Pet\"), \"Banho\").otherwise(col(\"Categoria\"))). \\\n",
    "withColumn(\"Categoria\", when(col(\"Categoria\").contains(\"Pet Smack\"), \"Banho\").otherwise(col(\"Categoria\"))). \\\n",
    "withColumn(\"Categoria\", when(col(\"Categoria\").contains(\"Pet Clean\"), \"Banho\").otherwise(col(\"Categoria\"))). \\\n",
    "withColumn(\"Categoria\", when(col(\"Categoria\").contains(\"Hidrapet\"), \"Banho\").otherwise(col(\"Categoria\"))). \\\n",
    "withColumn(\"Categoria\", when(col(\"Produto\").contains(\"Brinquedo\"), \"Brinquedo\").otherwise(col(\"Categoria\"))). \\\n",
    "withColumn(\"Categoria\", when(col(\"Produto\").contains(\"Kit\"), \"Kit\").otherwise(col(\"Categoria\"))). \\\n",
    "withColumn(\"Categoria\", when(col(\"Produto\").contains(\"Bifinho\"), \"Petisco\").otherwise(col(\"Categoria\"))). \\\n",
    "withColumn(\"Categoria\", when(col(\"Produto\").contains(\"Finalizador\"), \"Banho\").otherwise(col(\"Categoria\")))"
   ]
  },
  {
   "cell_type": "code",
   "execution_count": 32,
   "id": "41b4e849",
   "metadata": {},
   "outputs": [],
   "source": [
    "#Organização das Marcas\n",
    "categoria_marca_tratadas = categoria_tratadas.withColumn(\"Marca\", when(col(\"Marca\").contains(\"inteligente\"), 'Nao Informado').otherwise(col(\"Marca\"))). \\\n",
    "withColumn(\"Marca\", when(col(\"Marca\").contains(\"CONTROLE\"), 'Nao Informado').otherwise(col(\"Marca\"))). \\\n",
    "withColumn(\"Marca\", when(col(\"Marca\").contains(\"Virbac\"), \"Virbac\").otherwise(col(\"Marca\"))). \\\n",
    "withColumn(\"Marca\", when(col(\"Marca\").contains(\"World\"), \"World Veterinaria\").otherwise(col(\"Marca\"))). \\\n",
    "withColumn(\"Marca\", when(col(\"Marca\").contains(\"Agener\"), \"Agener\").otherwise(col(\"Marca\"))). \\\n",
    "withColumn(\"Marca\", when(col(\"Marca\").contains(\"Society\"), \"Pet Society\").otherwise(col(\"Marca\"))). \\\n",
    "withColumn(\"Marca\", when(col(\"Marca\").contains(\"Perigot\"), \"Perigot\").otherwise(col(\"Marca\")))"
   ]
  },
  {
   "cell_type": "code",
   "execution_count": 33,
   "id": "2c7b89ef",
   "metadata": {},
   "outputs": [],
   "source": [
    "categoria_marca_tratadas = categoria_marca_tratadas.withColumn(\"Marca\", when(col(\"Marca\").contains(\"AIC Matacura\"), 'AIC MATACURA').otherwise(col(\"Marca\")))"
   ]
  },
  {
   "cell_type": "code",
   "execution_count": 34,
   "id": "57291663",
   "metadata": {},
   "outputs": [
    {
     "name": "stdout",
     "output_type": "stream",
     "text": [
      "['Antipulgas', 'Banho', 'Bebedouros', 'Biscoitos', 'Brinquedo', 'Camas', 'Casinhas', 'Colchao Pet', 'Comedouro', 'Escada Pet', 'Kit', 'Ossos', 'Petisco', 'Racao', 'Repelente', 'Sabonete', 'Sache', 'Shampoo e Condicionadores', 'Suplementos e Vitaminas', 'Tapete'] \n",
      " 20\n"
     ]
    }
   ],
   "source": [
    "#Lista das Categorias após tratamento\n",
    "categorias_tratadas = categoria_marca_tratadas.select(\"Categoria\").distinct().collect()\n",
    "lista = [row[\"Categoria\"] for row in categorias_tratadas]\n",
    "lista_ordenada = sorted(lista)\n",
    "lista_ordenada\n",
    "print(lista_ordenada, \"\\n\", len(lista_ordenada))"
   ]
  },
  {
   "cell_type": "markdown",
   "id": "2426bcb5",
   "metadata": {},
   "source": [
    "### Tratamento da variável \"Marcas\""
   ]
  },
  {
   "cell_type": "code",
   "execution_count": 35,
   "id": "aa286a3a",
   "metadata": {},
   "outputs": [
    {
     "name": "stdout",
     "output_type": "stream",
     "text": [
      "+-------------------------+------------------------------------------------------------+-----------------------------------+------+---------+----------------+-----------------+-----------------------------------------------------------------------------------------------------------------------------------------------------------------------------------------------------------------------------------------------------------------------------------------------------------------------------------------------------------------------------------------------------------------------------------------------------------------------------------------------------------------------------------------------------------------------------------------------------------------------------------------------------------------------------------------------------------------------------------------------------------------------------------------------------------------------------------------------------------------------------------------------------------------------------------------------------------------------------------------------------------------------------------------------------------------------------------------------------------------------------------------------------------------------------------------------------------------------------------------------------------------------------------------------------------------------------------+\n",
      "|Categoria                |Produto                                                     |Marca                              |Preco |Avaliacao|Quant_Avaliacoes|Quant_Comentarios|URL                                                                                                                                                                                                                                                                                                                                                                                                                                                                                                                                                                                                                                                                                                                                                                                                                                                                                                                                                                                                                                                                                                                                                                                                                                                                                                                                |\n",
      "+-------------------------+------------------------------------------------------------+-----------------------------------+------+---------+----------------+-----------------+-----------------------------------------------------------------------------------------------------------------------------------------------------------------------------------------------------------------------------------------------------------------------------------------------------------------------------------------------------------------------------------------------------------------------------------------------------------------------------------------------------------------------------------------------------------------------------------------------------------------------------------------------------------------------------------------------------------------------------------------------------------------------------------------------------------------------------------------------------------------------------------------------------------------------------------------------------------------------------------------------------------------------------------------------------------------------------------------------------------------------------------------------------------------------------------------------------------------------------------------------------------------------------------------------------------------------------------+\n",
      "|Brinquedo                |Brinquedo De Borracha Argola Chupeta Cachorro Gato Pet Macio|Lucy Home                          |18.27 |5.0      |1               |0                |https://produto.mercadolivre.com.br/MLB-2126874365-brinquedo-de-borracha-argola-chupeta-cachorro-gato-pet-macio-_JM?searchVariation=174052898544#searchVariation=174052898544&position=47&search_layout=grid&type=item&tracking_id=66c36aee-22e5-4f4c-b4cf-f8c9d8d793f8                                                                                                                                                                                                                                                                                                                                                                                                                                                                                                                                                                                                                                                                                                                                                                                                                                                                                                                                                                                                                                                            |\n",
      "|Brinquedo                |Brinquedo De Borracha Argola Chupeta Cachorro Gato Pet Macio|Elo Imports                        |14.9  |4.1      |36              |11               |https://produto.mercadolivre.com.br/MLB-1726231739-brinquedo-de-borracha-argola-chupeta-cachorro-gato-pet-macio-_JM?searchVariation=69130336500#searchVariation=69130336500&position=51&search_layout=grid&type=item&tracking_id=66c36aee-22e5-4f4c-b4cf-f8c9d8d793f8                                                                                                                                                                                                                                                                                                                                                                                                                                                                                                                                                                                                                                                                                                                                                                                                                                                                                                                                                                                                                                                              |\n",
      "|Camas                    |Cama Para Cachorro Gato Médio 70x50 Antifriagem Lavável Luxo|VITORBABY                          |87.21 |NULL     |0               |0                |https://produto.mercadolivre.com.br/MLB-5257563430-cama-para-cachorro-gato-medio-70x50-antifriagem-lavavel-luxo-_JM?searchVariation=186739714869#searchVariation=186739714869&position=54&search_layout=grid&type=item&tracking_id=0b69a336-3040-422f-9a8b-8b189353cba6                                                                                                                                                                                                                                                                                                                                                                                                                                                                                                                                                                                                                                                                                                                                                                                                                                                                                                                                                                                                                                                            |\n",
      "|Camas                    |Cama Para Cachorro Gato Médio 70x50 Antifriagem Lavável Luxo|Confeccoes Ziig Zaag               |104.48|NULL     |0               |0                |https://produto.mercadolivre.com.br/MLB-5148915238-cama-para-cachorro-gato-medio-70x50-antifriagem-lavavel-luxo-_JM?searchVariation=182076265324#searchVariation=182076265324&position=48&search_layout=grid&type=item&tracking_id=d11c88b1-64b2-4d05-a95e-1e74f69f9838                                                                                                                                                                                                                                                                                                                                                                                                                                                                                                                                                                                                                                                                                                                                                                                                                                                                                                                                                                                                                                                            |\n",
      "|Camas                    |Cama Toca Iglu 3 Em 1 Suede Cachorro Gato Frio Quente Pet G |Lili                               |79.9  |5.0      |2               |2                |https://produto.mercadolivre.com.br/MLB-3883269497-cama-toca-iglu-3-em-1-suede-cachorro-gato-frio-quente-pet-g-_JM?searchVariation=185589198301#searchVariation=185589198301&position=32&search_layout=grid&type=item&tracking_id=44a2d87a-8c2d-46f4-978a-7d93edb93d8a                                                                                                                                                                                                                                                                                                                                                                                                                                                                                                                                                                                                                                                                                                                                                                                                                                                                                                                                                                                                                                                             |\n",
      "|Camas                    |Cama Toca Iglu 3 Em 1 Suede Cachorro Gato Frio Quente Pet G |Supri Pets                         |76.17 |5.0      |9               |4                |https://produto.mercadolivre.com.br/MLB-3782019877-cama-toca-iglu-3-em-1-suede-cachorro-gato-frio-quente-pet-g-_JM?searchVariation=183740299583#searchVariation=183740299583&position=48&search_layout=grid&type=item&tracking_id=dc814f54-a1e6-4447-99bf-7453d945653f                                                                                                                                                                                                                                                                                                                                                                                                                                                                                                                                                                                                                                                                                                                                                                                                                                                                                                                                                                                                                                                             |\n",
      "|Camas                    |Caminha Pet Cama Cachorros Confortável E Higiênica Acrimet  |Acrimet                            |221.0 |4.8      |101             |38               |https://www.mercadolivre.com.br/caminha-pet-cama-cachorros-confortavel-e-higinica-acrimet/p/MLB34282298?pdp_filters=deal:MLB1233309-1#wid=MLB5082306650&sid=search&searchVariation=MLB34282298&position=23&search_layout=grid&type=product&tracking_id=e0eec3eb-72da-4b86-ad29-c79640daf720                                                                                                                                                                                                                                                                                                                                                                                                                                                                                                                                                                                                                                                                                                                                                                                                                                                                                                                                                                                                                                        |\n",
      "|Camas                    |Caminha Pet Cama Cachorros Confortável E Higiênica Acrimet  |PETG                               |259.0 |NULL     |0               |0                |https://produto.mercadolivre.com.br/MLB-5056635076-caminha-pet-cama-cachorros-confortavel-e-higinica-acrimet-_JM?searchVariation=184811907281#searchVariation=184811907281&position=40&search_layout=grid&type=item&tracking_id=0b69a336-3040-422f-9a8b-8b189353cba6                                                                                                                                                                                                                                                                                                                                                                                                                                                                                                                                                                                                                                                                                                                                                                                                                                                                                                                                                                                                                                                               |\n",
      "|Camas                    |Caminha Pet Cama Sofá Casa Para Cachorro Gato Em Mdf        |Cama Pet                           |39.9  |4.9      |10              |5                |https://produto.mercadolivre.com.br/MLB-3873960612-caminha-pet-cama-sofa-casa-para-cachorro-gato-em-mdf-_JM?searchVariation=180786612645#searchVariation=180786612645&position=54&search_layout=grid&type=item&tracking_id=bac4272a-88a6-4f25-ae1c-f7123b82f4e8                                                                                                                                                                                                                                                                                                                                                                                                                                                                                                                                                                                                                                                                                                                                                                                                                                                                                                                                                                                                                                                                    |\n",
      "|Camas                    |Caminha Pet Cama Sofá Casa Para Cachorro Gato Em Mdf        |arca do bicho                      |77.9  |NULL     |0               |0                |https://produto.mercadolivre.com.br/MLB-5143237962-caminha-pet-cama-sofa-casa-para-cachorro-gato-em-mdf-_JM?searchVariation=185746749987#searchVariation=185746749987&position=37&search_layout=grid&type=item&tracking_id=ff6a1203-7619-47f1-a64b-ddd1f26bac08                                                                                                                                                                                                                                                                                                                                                                                                                                                                                                                                                                                                                                                                                                                                                                                                                                                                                                                                                                                                                                                                    |\n",
      "|Kit                      |Kit Dermatológico Pet  Antisseptico Caes/gatos - 300 Ml     |Pureza Pet                         |167.59|5.0      |3               |3                |https://produto.mercadolivre.com.br/MLB-4518528514-kit-dermatologico-pet-antisseptico-caesgatos-300-ml-_JM#position=35&search_layout=grid&type=item&tracking_id=10dc552e-a589-4ccc-a366-d0df621ff2db                                                                                                                                                                                                                                                                                                                                                                                                                                                                                                                                                                                                                                                                                                                                                                                                                                                                                                                                                                                                                                                                                                                               |\n",
      "|Kit                      |Kit Dermatológico Pet  Antisseptico Caes/gatos - 300 Ml     |Pureza Pet                         |209.49|5.0      |3               |3                |https://click1.mercadolivre.com.br/mclics/clicks/external/MLB/count?a=URvvLIaDl3CxtqKgMwNHwK10G0rDZHscVUfh7jEaufYg3tveVRsYXZh7MviZYhnYswuRBMk28gWu8cNFMnKl%2BHEcy6yiLYt9RAoD0ys%2BvzIcw4bWxP3zddYB4drLX3qYcC09U2k6dPd3ZhbtLusxr%2B2X65Tj%2BSOwSKG%2BAbn4SogMIlHWy0u%2FPQWBCGvgwRWE1oy3y7oWtN%2BUHGRZaKjscpR5t1kGOlej0PDZ%2BQcT7qbQyFitjHHNe8L26BiK8NMwOQbLfMXfUwNrvmzF%2FABjZ4L5tUMX1msHCXmJsyLmzmrlynOtyEspH6fxUpQ1GQ0IWhKejtA3WDre7Wjf5m70NuheAKC%2Fl2XYdMAzCsOZY3nwP%2BWXoTJhyv7D%2FeSIl%2BpQFngBfcfxD10vJ8MJulyHj1nGG6flRfBDTeKP4NkWih7MTArehbFtC5v6xyXfF0p6GLXlP2csldnJ9dyAXASQMazz10WSqkDMtRAOwsmSuJ72e%2Bod%2BL7XEHJj787eAcZmcsn%2BkOGWvgmlD8q%2FQAHm60JWPXtgQ5N9xE%2Fru%2FuIYFrfk2h%2FvSGlHACNGv25o6VW%2BL6qP3NAPBjHdT1RJF1iWBHI%2Fa8V55uD7xRE5IuKYMDYWQ%2Bwv9AEfbEoZlOorHuCRybILKWb%2BYiF8t%2FaIxDw4BKoJrjkCXxocmuzDRw7oCpnt%2BObzX3Wzmy8KyAm9xvlKqwl9y9MiD65TiPSHTDSTIaXjO8o2UpselTBIzrG%2BrdqDhyqft7ffh3aKCzP2TDvV8aFY6pmx1FR%2F88LjLGV7ZyTr%2BKp4McXpCfY4kXJiWsJSjmB2%2Fy1&e=mclics%2Fmin-budget-throttling%2B54896%2Cmclics%2Fdiscard-bid-lt-min%2B45363%2Cmclics%2Fdynamic-yield-factor%2B73918%2Cmclics%2Fmore-ads-migration%2B56865%2Cmclics%2Fmax-bid-capped%2B36382%2Cmclics%2Fmax-bid-item-factor%2B23927%2Cmclics%2Fgmv-predictor%2B52393%2Cmclics%2Foverride-min-seasonality%2B49092&rb=x                     |\n",
      "|Kit                      |Kit Dermatológico Pet  Antisseptico Caes/gatos - 300 Ml     |Nao Informado                      |167.59|5.0      |3               |3                |https://click1.mercadolivre.com.br/mclics/clicks/external/MLB/count?a=%2BXjzl%2FIR97Er05LwUnLDmoGyKsFjFzA9HPPptx%2B4McnrWtN%2FxoJvOjznK%2FJhPVYyzBqMZQ3VZKTrnSpgZO26k4jMSh7vWUK79pcv39yjmXgzf%2Fy5aYRWI0U2F8xzuhHi8iwLI9dujmcZyoBFqVr0KTsNXIbSLNE1cLBTCysFdEb3gRsZT%2BxeGZ%2Bbxr7g4xcPypG52hHKtRR%2FsHfRj9QaL0EeE%2Bg4e25keMFQ1M0LLHiWkpJmMEL1U%2Fr8EWi2kePBNaA7jl%2BtCxymIPSFe%2FsUR4IjR2L5gdlJ5IQzp1RG8b7HGLDpP3ztOIzfqcB3SGp%2BC6ifYKCmjTgnXNmTy5PsfrBhayIU78kD1JQ0A1Hv0HnavijCCkS1B2qNqE38DqrxbqwNhwdFN0NAXxMsXbkahP8BEtZ0hhzXSbtmzRpKUM0BabwgU%2BKwLokebtGNqei0n0eq4scl4IDnUttJ%2FL7hqs6QYye0ildyxWLPKzqeC%2FRqjYlnAtaNaoCTDjdFqIfJSEiRCfyFIyHoyE6%2FQ1TWKVMqFPX0KnHXEM%2BFS6nTSyMLHVsWWEjP%2BAQVKcAH%2B8FY8RE3nygPnkd3hSN%2Fz0Q007SuD3pcLAkkx1qv3h6PsADsvnjv5dwUFMHA3DOMpcGc6bg6cj5fXzWy0Ncrfzd3Hi%2BY9%2FSYOxmFAQI4ckc8hwD%2F841hpbrpwqJKOT%2Bn0Y78JS9jK65cD8qa%2FrHQ97t67RREina8pzplSEYMjp8waKTRCJ%2Fit6MxmmKmogazpQWZEhxgs2hCk0A8CjT36TWQmNTI%2Bn%2FFK197rxrpNSzdfxomi2HMxSRX6Is%3D&e=mclics%2Fmin-budget-throttling%2B54896%2Cmclics%2Fdiscard-bid-lt-min%2B45363%2Cmclics%2Fdynamic-yield-factor%2B73918%2Cmclics%2Fmore-ads-migration%2B56865%2Cmclics%2Fmax-bid-capped%2B36382%2Cmclics%2Fmax-bid-item-factor%2B23927%2Cmclics%2Fgmv-predictor%2B52393%2Cmclics%2Foverride-min-seasonality%2B49092&rb=x               |\n",
      "|Kit                      |Kit Dermatológico Pet  Antisseptico Caes/gatos - 300 Ml     |Pureza Pet                         |209.49|5.0      |3               |3                |https://click1.mercadolivre.com.br/mclics/clicks/external/MLB/count?a=n7y0CGx3XsBxhBISaaS6nHYlb2CYHAMjjAy9EUjKBldDIfoVFT9Q2niwEiDRPxddzuaZLVbqRveECGABjlU5NLl6V3im%2B%2FEvHSYqouSAgShPqlDxMpoCU44mbqeTSdTo3wmdj6GdV74NBNbOiMD7hDoaVokBW6z8KMKHJqKX9Zm7NdZ%2B7jtPJ9v6ABsqIcRyPFfUyAHb3THb7LXKXVlaSjX7A27C8Rt%2FJ%2BmYYx2qoZ6tzjjcOlScWKVWQn6LxH4ZjnR2lDchlJ9ROzNpSETXeyxWXBSAz2BsraeJ0CLrj2qytKLuHWygO3GwQui3xGlDMtI%2FbFj64eg2gBjw0UKhzv17QWEC3wbMKlK%2B%2BuThe46qWdS1en15PdpqYHhELkYV7nj5x2Oz3sJyS9giIekEP%2FTEyWn1mxwnWWwcMDYTLPP%2FjNLqLNTTRwCcwMBPLQrwYm08XBids9qwr9zp8lyhlV6uH1cqsFu4Womvq23QzDQzwjYa5WuHfXYQE9m7f%2BwxxRUY5nJPmb%2BD81P0n9yp2rgEOBrD6FGeIukF%2FrfAhWZtgpXziO1WVyrVfsZQrLe%2F%2BG5sGgUxRinLM4A2BCfdb%2BQw6TXon7SnYEZZh%2F72Tc%2FtL4DaKs1671u3x41khQaWksyKPqqsk77bQ3urmC68wbTK4W1AzMGBpwKA0PrvJ8iCzd%2F1ABDdgbIjrohSrmQfwrSirzN2tIG8JWsvIsHDQ1dkJpxrSsA2M2iOVWC%2FrcXjrwMKWbRvIpEb4NnaoOifDAu0MPmpr%2FBJnbYrJD2%2BLUrHUr1hrOlTUdW%2FmELRaQ%2FGbQtSBG56X%2Bs%3D&e=mclics%2Fmin-budget-throttling%2B54896%2Cmclics%2Fdiscard-bid-lt-min%2B45363%2Cmclics%2Fdynamic-yield-factor%2B73918%2Cmclics%2Fmore-ads-migration%2B56865%2Cmclics%2Fmax-bid-capped%2B36382%2Cmclics%2Fmax-bid-item-factor%2B23927%2Cmclics%2Fgmv-predictor%2B52393%2Cmclics%2Foverride-min-seasonality%2B49092&rb=x                         |\n",
      "|Kit                      |Kit Sabonete E Shampoo Para Cachorro Matacura Higiene Pet   |AIC MATACURA                       |39.99 |4.3      |4               |2                |https://produto.mercadolivre.com.br/MLB-2731070982-kit-sabonete-e-shampoo-para-cachorro-matacura-higiene-pet-_JM#position=36&search_layout=grid&type=item&tracking_id=e07933b0-47df-4629-905d-d72f7e7afe7c                                                                                                                                                                                                                                                                                                                                                                                                                                                                                                                                                                                                                                                                                                                                                                                                                                                                                                                                                                                                                                                                                                                         |\n",
      "|Kit                      |Kit Sabonete E Shampoo Para Cachorro Matacura Higiene Pet   |MATACURA ANTISSÉPTICO E BACTERICIDA|39.88 |5.0      |8               |3                |https://produto.mercadolivre.com.br/MLB-3533647781-kit-sabonete-e-shampoo-para-cachorro-matacura-higiene-pet-_JM#position=38&search_layout=grid&type=item&tracking_id=91a62809-8faf-44bd-a652-424291c4c842                                                                                                                                                                                                                                                                                                                                                                                                                                                                                                                                                                                                                                                                                                                                                                                                                                                                                                                                                                                                                                                                                                                         |\n",
      "|Shampoo e Condicionadores|Shampoo Branqueador + Condicionador Cães E Gatos Pet Society|Hydra Profissional                 |131.83|5.0      |5               |1                |https://produto.mercadolivre.com.br/MLB-2773413726-shampoo-branqueador-condicionador-ces-e-gatos-pet-society-_JM#position=31&search_layout=grid&type=item&tracking_id=6eb18f80-6431-4ea1-8659-ed7d74722ac7                                                                                                                                                                                                                                                                                                                                                                                                                                                                                                                                                                                                                                                                                                                                                                                                                                                                                                                                                                                                                                                                                                                         |\n",
      "|Shampoo e Condicionadores|Shampoo Branqueador + Condicionador Cães E Gatos Pet Society|Pet Society                        |121.53|4.9      |27              |8                |https://www.mercadolivre.com.br/shampoo-branqueador-condicionador-ces-e-gatos-pet-society/p/MLB34103975?pdp_filters=deal:MLB1233309-1#wid=MLB3617700021&sid=search&searchVariation=MLB34103975&position=24&search_layout=grid&type=product&tracking_id=df0b4daf-0eab-4e42-a449-4789c384a7c4                                                                                                                                                                                                                                                                                                                                                                                                                                                                                                                                                                                                                                                                                                                                                                                                                                                                                                                                                                                                                                        |\n",
      "|Tapete                   |Tapetes Higiênicos Cachorro 40 Pads Premium 60x60 6 Camadas |Nao Informado                      |47.39 |3.9      |9               |3                |https://click1.mercadolivre.com.br/mclics/clicks/external/MLB/count?a=jPDMixRyaepxb242rzs4Vz3SFtb7d1DwPFwCvRUEu4McO2hOX%2F%2BMEZZWcsCNAMYVlVGspMrJaCYvTZ2NorjzE99E7btM6AU6SXXUyKVkQlOXaitFoBQYWd9u0Q6Xt1jlOhVKHa8VtM0qd80QDckS%2BOtOJhhsA6ZFPQZiA53OvlPYV%2BKP%2FefraobhHTQDEa8kWMLJJNqJsNRAVFlVWlRLm5j12Ijae1VbXAZEPeSEqsD1UvvImAiRYfjT0gSQ3DdY6oakFIsqB95BCXb8se5OyRjiFmNNCjI0YpnOVXHDaD2b5uYUGIpp%2BF2bggs8LVdj5sh2xLBp3N0egGTdbRConhiH7gpQcWn3sc%2FN5KEZeIbWL%2BAGfRBzai0s5eUAZG338uYDZrDcyoGmmIj4Wdasy6c6YEDRkwQ7hz18gIeeDaWx6D0WUpi2f5FyUDNZjrEUb3Gjc1a4lKaVWfTWy%2B7Tae%2FUZJhKiq9Q87RyB7ziHnLSkXJvvb%2BcEx5wrzfY4ff8%2BhylMfO%2BGYrvzlTGFJyqBVXtgA8vnxUia%2Bo%2FiRCN%2BMlBxUG9YOTedWOKGDJt56lL8me7WcnvSmTYoqGoMjRT1PKAlBAyDrA8e2lDWvlUrkYOJOAHvxhEWLb5wZ5Q2x7VIk0T%2FxoIxeqZF8Gx7wQUHaCKkPeo9t%2B%2B7o6PuNkRtIxSqKglbBMrIjrakfsqgzlwoJNT1cidikw2YLtooQOTvzspW0lTzOvAM5jRAYt76ETthu4QBbQi101TF2We5sEYGfaS%2FxzmiEFCKfISSmebmEhRWWAqcedgvM8EUX11nA84UWuT7II%3D&e=mclics%2Fmin-budget-throttling%2B54896%2Cmclics%2Fdiscard-bid-lt-min%2B45363%2Cmclics%2Fmore-ads-migration%2B56865%2Cmclics%2Fmax-bid-capped%2B36382%2Cmclics%2Fmax-bid-item-factor%2B23927%2Cmclics%2Fgmv-predictor%2B52393%2Cmclics%2Foverride-min-seasonality%2B49092&rb=x#polycard_client=search-nordic&tracking_id=c82620be-a6a8-43eb-9b24-2540551f46d8|\n",
      "|Tapete                   |Tapetes Higiênicos Cachorro 40 Pads Premium 60x60 6 Camadas |sanse                              |47.39 |3.9      |9               |3                |https://produto.mercadolivre.com.br/MLB-5099288988-tapetes-higinicos-cachorro-40-pads-premium-60x60-6-camadas-_JM#position=41&search_layout=grid&type=item&tracking_id=393a5786-f80a-4403-85dd-f79fcea90b03                                                                                                                                                                                                                                                                                                                                                                                                                                                                                                                                                                                                                                                                                                                                                                                                                                                                                                                                                                                                                                                                                                                        |\n",
      "+-------------------------+------------------------------------------------------------+-----------------------------------+------+---------+----------------+-----------------+-----------------------------------------------------------------------------------------------------------------------------------------------------------------------------------------------------------------------------------------------------------------------------------------------------------------------------------------------------------------------------------------------------------------------------------------------------------------------------------------------------------------------------------------------------------------------------------------------------------------------------------------------------------------------------------------------------------------------------------------------------------------------------------------------------------------------------------------------------------------------------------------------------------------------------------------------------------------------------------------------------------------------------------------------------------------------------------------------------------------------------------------------------------------------------------------------------------------------------------------------------------------------------------------------------------------------------------+\n",
      "\n",
      "Existem 20 repetições\n"
     ]
    }
   ],
   "source": [
    "#Verificação de Produtos com nome repetido\n",
    "quantidade_produto = categoria_marca_tratadas.groupBy(\"Produto\").agg(countDistinct(\"Categoria\", \"Marca\").alias(\"Quant_Combinacoes\"))\n",
    "filtro_repetidos = quantidade_produto.filter(col(\"Quant_Combinacoes\") > 1)\n",
    "lista_produtos_repetidos = filtro_repetidos.select(\"Produto\")\n",
    "lista_produtos_repetidos = [row[\"Produto\"] for row in filtro_repetidos.collect()]\n",
    "df_sem_url = categoria_marca_tratadas.filter(col(\"Produto\").isin(lista_produtos_repetidos))\n",
    "df_sem_url.orderBy(\"Produto\").show(50, truncate=False)\n",
    "print(f\"Existem {df_sem_url.count()} repetições\")"
   ]
  },
  {
   "cell_type": "code",
   "execution_count": 36,
   "id": "8619df44",
   "metadata": {},
   "outputs": [],
   "source": [
    "#Verificação de duplicatas\n",
    "df_sem_repeticoes = categoria_marca_tratadas.dropDuplicates()"
   ]
  },
  {
   "cell_type": "code",
   "execution_count": 37,
   "id": "22b1fb7f",
   "metadata": {},
   "outputs": [
    {
     "data": {
      "text/plain": [
       "2261"
      ]
     },
     "execution_count": 37,
     "metadata": {},
     "output_type": "execute_result"
    }
   ],
   "source": [
    "categoria_marca_tratadas.count()"
   ]
  },
  {
   "cell_type": "code",
   "execution_count": 27,
   "id": "0098983d",
   "metadata": {},
   "outputs": [
    {
     "data": {
      "text/plain": [
       "2261"
      ]
     },
     "execution_count": 27,
     "metadata": {},
     "output_type": "execute_result"
    }
   ],
   "source": [
    "df_sem_repeticoes.count()"
   ]
  },
  {
   "cell_type": "markdown",
   "id": "b9799f4d",
   "metadata": {},
   "source": [
    "### Substituição da variável \"URL\" pela variável \"ID\" "
   ]
  },
  {
   "cell_type": "code",
   "execution_count": 38,
   "id": "133af148",
   "metadata": {},
   "outputs": [
    {
     "name": "stdout",
     "output_type": "stream",
     "text": [
      "+----+--------------------+--------------------+--------------------+------+---------+----------------+-----------------+\n",
      "|  ID|           Categoria|             Produto|               Marca| Preco|Avaliacao|Quant_Avaliacoes|Quant_Comentarios|\n",
      "+----+--------------------+--------------------+--------------------+------+---------+----------------+-----------------+\n",
      "|1709|               Camas|Colchonete Pet Ca...|            Binnopet| 179.9|      5.0|               7|                2|\n",
      "|2041|               Camas|Cama Nuvem Pelúci...|             Tinenen|  36.0|      4.7|              19|                3|\n",
      "|1389|               Racao|Pet Delícia Alime...|         Pet Delícia| 30.79|      4.9|             369|               49|\n",
      "|1984|           Biscoitos|Snack Natural Des...|           PetTreats| 29.71|      4.1|              15|                3|\n",
      "| 542|               Ossos|Osso Mordedor Com...|           Lumen Pet| 61.92|      4.7|              15|                2|\n",
      "| 320|               Banho|Hidratante Pet Sm...|            Petsmack| 71.79|      4.9|             109|               20|\n",
      "|1593|                 Kit|Cama Para Cachorr...|         Gv Enxovais| 218.0|      5.0|               8|                2|\n",
      "| 165|Shampoo e Condici...|Óleo De Argan Ego...|             Bubbles|125.94|      4.0|               2|                0|\n",
      "| 548|           Brinquedo|Cama Cachorro Gat...|        Mileva Store| 246.9|      5.0|               1|                1|\n",
      "|1628|           Biscoitos|Petisco Pet Natur...|       Natural Taste| 28.25|      4.8|              49|               15|\n",
      "|2224|Shampoo e Condici...|Shampoo Neutro Ác...|             Perigot| 145.6|      5.0|               1|                0|\n",
      "|1573|                 Kit|Kit3 Brinquedo Re...|          Lojas Edri| 45.91|      4.7|              78|               26|\n",
      "| 550|           Biscoitos|Petisco Para Cães...|               Dingo| 16.19|      5.0|               2|                0|\n",
      "|1893|           Biscoitos|Petisco Caes Orel...|           Goodlovin|  31.2|      4.5|               2|                0|\n",
      "|2127|              Tapete|Tapete Higiênico ...|       Member's Mark|197.62|      4.8|              73|               21|\n",
      "|1386|               Camas|Cama Cachorros Gr...|            Moveraço| 179.0|      4.7|              20|                5|\n",
      "|1598|             Petisco|Petisco Natural C...|            Barkkies| 28.97|      4.5|              24|                4|\n",
      "|1377|               Racao|Osso Nó Petisco 1...|stress mordedor p...| 124.5|      5.0|               7|                4|\n",
      "| 805|Shampoo e Condici...|Shampoo Peroxydex...|              Virbac|  74.0|      4.6|              57|               19|\n",
      "| 723|               Camas|Cama Caminha Pet ...|       Dog Cat Store| 74.95|      4.8|              36|                8|\n",
      "+----+--------------------+--------------------+--------------------+------+---------+----------------+-----------------+\n",
      "only showing top 20 rows\n",
      "\n"
     ]
    }
   ],
   "source": [
    "# Substituição da coluna \"URL\" pela coluna \"ID\"\n",
    "id_urls = spark.read.csv(r\"C:\\Users\\fred\\Documents\\CursoFullStack\\Projeto\\Web Scraping\\Dados\\IDs_URLs.csv\", sep = \";\", header = True)\n",
    "df1_tratado = id_urls.join(df_sem_repeticoes, on=\"URL\", how=\"inner\")\n",
    "df1_tratado = df1_tratado.drop(\"URL\")\n",
    "df1_tratado.show()"
   ]
  },
  {
   "cell_type": "code",
   "execution_count": 40,
   "id": "c6088cff",
   "metadata": {},
   "outputs": [],
   "source": [
    "# Criação do arquivo .parquet\n",
    "df1_tratado.write.parquet(r\"C:\\Users\\fred\\Documents\\CursoFullStack\\Projeto\\Web Scraping\\Dados\\df1_tratado.parquet\")"
   ]
  },
  {
   "cell_type": "code",
   "execution_count": 41,
   "id": "666d702f",
   "metadata": {},
   "outputs": [
    {
     "name": "stdout",
     "output_type": "stream",
     "text": [
      "root\n",
      " |-- ID: string (nullable = true)\n",
      " |-- Categoria: string (nullable = true)\n",
      " |-- Produto: string (nullable = true)\n",
      " |-- Marca: string (nullable = true)\n",
      " |-- Preco: float (nullable = true)\n",
      " |-- Avaliacao: float (nullable = true)\n",
      " |-- Quant_Avaliacoes: integer (nullable = true)\n",
      " |-- Quant_Comentarios: integer (nullable = true)\n",
      "\n"
     ]
    }
   ],
   "source": [
    "df1_tratado.printSchema()"
   ]
  },
  {
   "cell_type": "code",
   "execution_count": 39,
   "id": "4e8a15f0",
   "metadata": {},
   "outputs": [
    {
     "name": "stdout",
     "output_type": "stream",
     "text": [
      "+---+---------+-------+-----+-----+---------+----------------+-----------------+\n",
      "| ID|Categoria|Produto|Marca|Preco|Avaliacao|Quant_Avaliacoes|Quant_Comentarios|\n",
      "+---+---------+-------+-----+-----+---------+----------------+-----------------+\n",
      "+---+---------+-------+-----+-----+---------+----------------+-----------------+\n",
      "\n"
     ]
    }
   ],
   "source": [
    "df1_tratado.filter(col(\"Marca\").isNull()).show()"
   ]
  }
 ],
 "metadata": {
  "kernelspec": {
   "display_name": "Python 3 (ipykernel)",
   "language": "python",
   "name": "python3"
  },
  "language_info": {
   "codemirror_mode": {
    "name": "ipython",
    "version": 3
   },
   "file_extension": ".py",
   "mimetype": "text/x-python",
   "name": "python",
   "nbconvert_exporter": "python",
   "pygments_lexer": "ipython3",
   "version": "3.9.12"
  }
 },
 "nbformat": 4,
 "nbformat_minor": 5
}
